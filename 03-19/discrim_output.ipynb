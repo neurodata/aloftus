{
 "cells": [
  {
   "cell_type": "markdown",
   "metadata": {},
   "source": [
    "# big dataframe with discriminability for everything"
   ]
  },
  {
   "cell_type": "markdown",
   "metadata": {},
   "source": [
    "- dataset x atlas"
   ]
  },
  {
   "cell_type": "code",
   "execution_count": 1,
   "metadata": {},
   "outputs": [],
   "source": [
    "import numpy as np\n",
    "import pandas as pd"
   ]
  },
  {
   "cell_type": "code",
   "execution_count": 4,
   "metadata": {},
   "outputs": [
    {
     "data": {
      "text/plain": [
       "nan"
      ]
     },
     "execution_count": 4,
     "metadata": {},
     "output_type": "execute_result"
    }
   ],
   "source": [
    "np"
   ]
  },
  {
   "cell_type": "code",
   "execution_count": 2,
   "metadata": {},
   "outputs": [],
   "source": [
    "datasets = ['HNU1', 'BNU1', 'SWU4', 'NKI_TRT', 'KKI2009']\n",
    "atlases = [\"CPAC200\", \"DKT\", \"HarvardOxfordcort-maxprob-thr25\", \"HarvardOxfordsub-maxprob-thr25\", \"JHU\", \"Schaefer2018-200-node\", \"Schaefer2018-300-node\", \"Schaefer2018-400-node\", \"Talairach\", \"aal\", \"brodmann\", \"desikan\", \"glasser\", \"hemispheric\", \"pp264\", \"princetonvisual-top\", \"tissue\", \"yeo-17-liberal\", \"yeo-17\", \"yeo-7-liberal\", \"yeo-7\"]"
   ]
  },
  {
   "cell_type": "code",
   "execution_count": null,
   "metadata": {},
   "outputs": [],
   "source": []
  },
  {
   "cell_type": "code",
   "execution_count": 6,
   "metadata": {},
   "outputs": [],
   "source": [
    "HNU1 = {'CPAC200': 0.6601731, 'DKT': 0.6250729, 'HarvardOxfordcort-maxprob-thr25': 0.6859116, 'HarvardOxfordsub-maxprob-thr25': 0.724383, \n",
    "        'JHU': np.NaN, 'Schaefer2018-200-node': 0.6734775, \"Schaefer2018-300-node\": 0.6379851, \"Schaefer2018-400-node\": np.NaN, \"Talairach\": np.NaN, \"aal\": np.NaN, \"brodmann\": np.NaN, \"desikan\": np.NaN, \"glasser\": np.NaN, \"hemispheric\": np.NaN, \"pp264\": np.NaN, \"princetonvisual-top\": np.NaN, \"tissue\": np.NaN, \"yeo-17-liberal\": np.NaN, \"yeo-17\": np.NaN, \"yeo-7-liberal\": np.NaN, \"yeo-7\": np.NaN}"
   ]
  },
  {
   "cell_type": "code",
   "execution_count": 10,
   "metadata": {},
   "outputs": [],
   "source": [
    "df = pd.DataFrame(HNU1, index=['HNU1'])"
   ]
  },
  {
   "cell_type": "code",
   "execution_count": 11,
   "metadata": {},
   "outputs": [
    {
     "data": {
      "text/html": [
       "<div>\n",
       "<style scoped>\n",
       "    .dataframe tbody tr th:only-of-type {\n",
       "        vertical-align: middle;\n",
       "    }\n",
       "\n",
       "    .dataframe tbody tr th {\n",
       "        vertical-align: top;\n",
       "    }\n",
       "\n",
       "    .dataframe thead th {\n",
       "        text-align: right;\n",
       "    }\n",
       "</style>\n",
       "<table border=\"1\" class=\"dataframe\">\n",
       "  <thead>\n",
       "    <tr style=\"text-align: right;\">\n",
       "      <th></th>\n",
       "      <th>CPAC200</th>\n",
       "      <th>DKT</th>\n",
       "      <th>HarvardOxfordcort-maxprob-thr25</th>\n",
       "      <th>HarvardOxfordsub-maxprob-thr25</th>\n",
       "      <th>JHU</th>\n",
       "      <th>Schaefer2018-200-node</th>\n",
       "      <th>Schaefer2018-300-node</th>\n",
       "      <th>Schaefer2018-400-node</th>\n",
       "      <th>Talairach</th>\n",
       "      <th>aal</th>\n",
       "      <th>...</th>\n",
       "      <th>desikan</th>\n",
       "      <th>glasser</th>\n",
       "      <th>hemispheric</th>\n",
       "      <th>pp264</th>\n",
       "      <th>princetonvisual-top</th>\n",
       "      <th>tissue</th>\n",
       "      <th>yeo-17-liberal</th>\n",
       "      <th>yeo-17</th>\n",
       "      <th>yeo-7-liberal</th>\n",
       "      <th>yeo-7</th>\n",
       "    </tr>\n",
       "  </thead>\n",
       "  <tbody>\n",
       "    <tr>\n",
       "      <th>HNU1</th>\n",
       "      <td>0.660173</td>\n",
       "      <td>0.625073</td>\n",
       "      <td>0.685912</td>\n",
       "      <td>0.724383</td>\n",
       "      <td>NaN</td>\n",
       "      <td>0.673477</td>\n",
       "      <td>0.637985</td>\n",
       "      <td>NaN</td>\n",
       "      <td>NaN</td>\n",
       "      <td>NaN</td>\n",
       "      <td>...</td>\n",
       "      <td>NaN</td>\n",
       "      <td>NaN</td>\n",
       "      <td>NaN</td>\n",
       "      <td>NaN</td>\n",
       "      <td>NaN</td>\n",
       "      <td>NaN</td>\n",
       "      <td>NaN</td>\n",
       "      <td>NaN</td>\n",
       "      <td>NaN</td>\n",
       "      <td>NaN</td>\n",
       "    </tr>\n",
       "  </tbody>\n",
       "</table>\n",
       "<p>1 rows × 21 columns</p>\n",
       "</div>"
      ],
      "text/plain": [
       "       CPAC200       DKT  HarvardOxfordcort-maxprob-thr25  \\\n",
       "HNU1  0.660173  0.625073                         0.685912   \n",
       "\n",
       "      HarvardOxfordsub-maxprob-thr25  JHU  Schaefer2018-200-node  \\\n",
       "HNU1                        0.724383  NaN               0.673477   \n",
       "\n",
       "      Schaefer2018-300-node  Schaefer2018-400-node  Talairach  aal  ...    \\\n",
       "HNU1               0.637985                    NaN        NaN  NaN  ...     \n",
       "\n",
       "      desikan  glasser  hemispheric  pp264  princetonvisual-top  tissue  \\\n",
       "HNU1      NaN      NaN          NaN    NaN                  NaN     NaN   \n",
       "\n",
       "      yeo-17-liberal  yeo-17  yeo-7-liberal  yeo-7  \n",
       "HNU1             NaN     NaN            NaN    NaN  \n",
       "\n",
       "[1 rows x 21 columns]"
      ]
     },
     "execution_count": 11,
     "metadata": {},
     "output_type": "execute_result"
    }
   ],
   "source": [
    "df"
   ]
  },
  {
   "cell_type": "code",
   "execution_count": null,
   "metadata": {},
   "outputs": [],
   "source": []
  }
 ],
 "metadata": {
  "kernelspec": {
   "display_name": "py3",
   "language": "python",
   "name": "py3"
  },
  "language_info": {
   "codemirror_mode": {
    "name": "ipython",
    "version": 3
   },
   "file_extension": ".py",
   "mimetype": "text/x-python",
   "name": "python",
   "nbconvert_exporter": "python",
   "pygments_lexer": "ipython3",
   "version": "3.7.2"
  }
 },
 "nbformat": 4,
 "nbformat_minor": 2
}
