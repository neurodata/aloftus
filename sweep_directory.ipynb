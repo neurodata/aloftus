{
 "cells": [
  {
   "cell_type": "markdown",
   "metadata": {},
   "source": [
    "# Playing with sweep_directory function"
   ]
  },
  {
   "cell_type": "markdown",
   "metadata": {},
   "source": [
    "Using 3 subjects from HNU1 for testing purposes."
   ]
  },
  {
   "cell_type": "code",
   "execution_count": 39,
   "metadata": {},
   "outputs": [],
   "source": [
    "# my imports\n",
    "import pandas as pd\n",
    "import numpy as np\n",
    "import os\n",
    "from pathlib import Path\n",
    "import shutil"
   ]
  },
  {
   "cell_type": "code",
   "execution_count": 40,
   "metadata": {},
   "outputs": [],
   "source": [
    "from ndmg.utils.bids_utils import sweep_directory"
   ]
  },
  {
   "cell_type": "code",
   "execution_count": 41,
   "metadata": {},
   "outputs": [],
   "source": [
    "# store outputs in a variable\n",
    "x = sweep_directory('HNU1')"
   ]
  },
  {
   "cell_type": "code",
   "execution_count": 42,
   "metadata": {},
   "outputs": [
    {
     "data": {
      "text/plain": [
       "tuple"
      ]
     },
     "execution_count": 42,
     "metadata": {},
     "output_type": "execute_result"
    }
   ],
   "source": [
    "type(x)"
   ]
  },
  {
   "cell_type": "code",
   "execution_count": 43,
   "metadata": {},
   "outputs": [
    {
     "data": {
      "text/plain": [
       "4"
      ]
     },
     "execution_count": 43,
     "metadata": {},
     "output_type": "execute_result"
    }
   ],
   "source": [
    "len(x)"
   ]
  },
  {
   "cell_type": "markdown",
   "metadata": {},
   "source": [
    "### sweep_directory creates a 4-tuple"
   ]
  },
  {
   "cell_type": "markdown",
   "metadata": {},
   "source": [
    "- x[0] --> dwi.nii.gz\n",
    "- x[1] --> dwi.bval\n",
    "- x[2] --> dwi.bvec\n",
    "- x[3] --> T1w.nii.gz"
   ]
  },
  {
   "cell_type": "code",
   "execution_count": 44,
   "metadata": {},
   "outputs": [
    {
     "data": {
      "text/plain": [
       "['/Users/alex/Dropbox/NeuroData/ndmg-top/exploration/aloftus/HNU1/sub-0025427/ses-1/dwi/sub-0025427_ses-1_dwi.nii.gz',\n",
       " '/Users/alex/Dropbox/NeuroData/ndmg-top/exploration/aloftus/HNU1/sub-0025427/ses-2/dwi/sub-0025427_ses-2_dwi.nii.gz',\n",
       " '/Users/alex/Dropbox/NeuroData/ndmg-top/exploration/aloftus/HNU1/sub-0025427/ses-3/dwi/sub-0025427_ses-3_dwi.nii.gz',\n",
       " '/Users/alex/Dropbox/NeuroData/ndmg-top/exploration/aloftus/HNU1/sub-0025427/ses-4/dwi/sub-0025427_ses-4_dwi.nii.gz',\n",
       " '/Users/alex/Dropbox/NeuroData/ndmg-top/exploration/aloftus/HNU1/sub-0025427/ses-5/dwi/sub-0025427_ses-5_dwi.nii.gz']"
      ]
     },
     "execution_count": 44,
     "metadata": {},
     "output_type": "execute_result"
    }
   ],
   "source": [
    "x[0][:5]  # all the dwi.nii.gz files"
   ]
  },
  {
   "cell_type": "code",
   "execution_count": 45,
   "metadata": {},
   "outputs": [
    {
     "data": {
      "text/plain": [
       "['/Users/alex/Dropbox/NeuroData/ndmg-top/exploration/aloftus/HNU1/sub-0025427/ses-1/dwi/sub-0025427_ses-1_dwi.bval',\n",
       " '/Users/alex/Dropbox/NeuroData/ndmg-top/exploration/aloftus/HNU1/sub-0025427/ses-2/dwi/sub-0025427_ses-2_dwi.bval',\n",
       " '/Users/alex/Dropbox/NeuroData/ndmg-top/exploration/aloftus/HNU1/sub-0025427/ses-3/dwi/sub-0025427_ses-3_dwi.bval',\n",
       " '/Users/alex/Dropbox/NeuroData/ndmg-top/exploration/aloftus/HNU1/sub-0025427/ses-4/dwi/sub-0025427_ses-4_dwi.bval',\n",
       " '/Users/alex/Dropbox/NeuroData/ndmg-top/exploration/aloftus/HNU1/sub-0025427/ses-5/dwi/sub-0025427_ses-5_dwi.bval']"
      ]
     },
     "execution_count": 45,
     "metadata": {},
     "output_type": "execute_result"
    }
   ],
   "source": [
    "x[1][:5]  # all the *.bval files"
   ]
  },
  {
   "cell_type": "code",
   "execution_count": 46,
   "metadata": {},
   "outputs": [
    {
     "data": {
      "text/plain": [
       "['/Users/alex/Dropbox/NeuroData/ndmg-top/exploration/aloftus/HNU1/sub-0025427/ses-1/dwi/sub-0025427_ses-1_dwi.bvec',\n",
       " '/Users/alex/Dropbox/NeuroData/ndmg-top/exploration/aloftus/HNU1/sub-0025427/ses-2/dwi/sub-0025427_ses-2_dwi.bvec',\n",
       " '/Users/alex/Dropbox/NeuroData/ndmg-top/exploration/aloftus/HNU1/sub-0025427/ses-3/dwi/sub-0025427_ses-3_dwi.bvec',\n",
       " '/Users/alex/Dropbox/NeuroData/ndmg-top/exploration/aloftus/HNU1/sub-0025427/ses-4/dwi/sub-0025427_ses-4_dwi.bvec',\n",
       " '/Users/alex/Dropbox/NeuroData/ndmg-top/exploration/aloftus/HNU1/sub-0025427/ses-5/dwi/sub-0025427_ses-5_dwi.bvec']"
      ]
     },
     "execution_count": 46,
     "metadata": {},
     "output_type": "execute_result"
    }
   ],
   "source": [
    "x[2][:5]  # all the *.bvec files"
   ]
  },
  {
   "cell_type": "code",
   "execution_count": 47,
   "metadata": {},
   "outputs": [
    {
     "data": {
      "text/plain": [
       "['/Users/alex/Dropbox/NeuroData/ndmg-top/exploration/aloftus/HNU1/sub-0025427/ses-1/anat/sub-0025427_ses-1_T1w.nii.gz',\n",
       " '/Users/alex/Dropbox/NeuroData/ndmg-top/exploration/aloftus/HNU1/sub-0025427/ses-2/anat/sub-0025427_ses-2_T1w.nii.gz',\n",
       " '/Users/alex/Dropbox/NeuroData/ndmg-top/exploration/aloftus/HNU1/sub-0025427/ses-3/anat/sub-0025427_ses-3_T1w.nii.gz',\n",
       " '/Users/alex/Dropbox/NeuroData/ndmg-top/exploration/aloftus/HNU1/sub-0025427/ses-4/anat/sub-0025427_ses-4_T1w.nii.gz',\n",
       " '/Users/alex/Dropbox/NeuroData/ndmg-top/exploration/aloftus/HNU1/sub-0025427/ses-5/anat/sub-0025427_ses-5_T1w.nii.gz']"
      ]
     },
     "execution_count": 47,
     "metadata": {},
     "output_type": "execute_result"
    }
   ],
   "source": [
    "x[3][:5]  # all the t1w.nii.gz files"
   ]
  },
  {
   "cell_type": "markdown",
   "metadata": {},
   "source": [
    "### There are the right number of files for 3 subjects of HNU1"
   ]
  },
  {
   "cell_type": "code",
   "execution_count": 48,
   "metadata": {},
   "outputs": [
    {
     "name": "stdout",
     "output_type": "stream",
     "text": [
      "30\n",
      "30\n",
      "30\n",
      "30\n"
     ]
    }
   ],
   "source": [
    "print(len(x[0]))\n",
    "print(len(x[1]))\n",
    "print(len(x[2]))\n",
    "print(len(x[3]))"
   ]
  },
  {
   "cell_type": "code",
   "execution_count": null,
   "metadata": {},
   "outputs": [],
   "source": []
  }
 ],
 "metadata": {
  "kernelspec": {
   "display_name": "ndmg_env",
   "language": "python",
   "name": "ndmg_env"
  },
  "language_info": {
   "codemirror_mode": {
    "name": "ipython",
    "version": 2
   },
   "file_extension": ".py",
   "mimetype": "text/x-python",
   "name": "python",
   "nbconvert_exporter": "python",
   "pygments_lexer": "ipython2",
   "version": "2.7.15"
  }
 },
 "nbformat": 4,
 "nbformat_minor": 2
}
