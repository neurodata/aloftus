{
 "cells": [
  {
   "cell_type": "markdown",
   "metadata": {},
   "source": [
    "# Comparing ndmg branches"
   ]
  },
  {
   "cell_type": "code",
   "execution_count": 1,
   "metadata": {},
   "outputs": [],
   "source": [
    "import os\n",
    "import pandas as pd\n",
    "import numpy as np\n",
    "import matplotlib.pyplot as plt\n",
    "import seaborn as sns\n",
    "import networkx as nx"
   ]
  },
  {
   "cell_type": "markdown",
   "metadata": {},
   "source": [
    "## Metadata"
   ]
  },
  {
   "cell_type": "markdown",
   "metadata": {},
   "source": [
    "- This analysis uses the KKI2009 data <a href=\"http://mrneurodata.s3-website-us-east-1.amazonaws.com/KKI2009/\" target=\"_blank\">here</a>.\n",
    "- Docker containers were used.\n",
    "    - <a href=\"https://hub.docker.com/r/bids/ndmg/\" target=\"_blank\">master</a>\n",
    "    - <a href=\"https://hub.docker.com/r/bids/ndmg/\" target=\"_blank\">eric's branch</a>.\n",
    "- I used the outputs in \n",
    "    - **master**: /graphs/ (.edgelist)\n",
    "    - **eric**: /dwi/roi-connectomes (csv)"
   ]
  },
  {
   "cell_type": "markdown",
   "metadata": {},
   "source": [
    "## Plan\n",
    "\n",
    "1. Eric\n",
    "    - Load data as np array\n",
    "    - Convert to adjacency matrix\n",
    "2. Master\n",
    "    - Load data as np array\n",
    "    - Convert to adjacency matrixc\n",
    "3. Define a function that takes a file location as input and returns an adjacency matrix as output\n",
    "    - Check whether file location is from master or eric\n",
    "    - Possibly needs to do different things depending on which branch it's taking data from\n",
    "4. For each pair of supposedly-equivalent graphs, take the difference\n",
    "5. Take the norm of the above\n",
    "6. Use seaborn to plot this for every parcellation\n",
    "7. Equivalent analysis for group-level data"
   ]
  },
  {
   "cell_type": "markdown",
   "metadata": {},
   "source": [
    "## Show where data is coming from"
   ]
  },
  {
   "cell_type": "code",
   "execution_count": 2,
   "metadata": {},
   "outputs": [
    {
     "data": {
      "text/plain": [
       "['/data/aloftus/KKI2009',\n",
       " '├── sub-113',\n",
       " '│\\xa0\\xa0 ├── ses-1',\n",
       " '│\\xa0\\xa0 │\\xa0\\xa0 ├── anat',\n",
       " '│\\xa0\\xa0 │\\xa0\\xa0 ├── dwi',\n",
       " '│\\xa0\\xa0 │\\xa0\\xa0 └── func',\n",
       " '│\\xa0\\xa0 └── ses-2',\n",
       " '│\\xa0\\xa0     ├── anat',\n",
       " '│\\xa0\\xa0     ├── dwi',\n",
       " '│\\xa0\\xa0     └── func',\n",
       " '├── sub-127',\n",
       " '│\\xa0\\xa0 ├── ses-1',\n",
       " '│\\xa0\\xa0 │\\xa0\\xa0 ├── anat',\n",
       " '│\\xa0\\xa0 │\\xa0\\xa0 ├── dwi',\n",
       " '│\\xa0\\xa0 │\\xa0\\xa0 └── func',\n",
       " '│\\xa0\\xa0 └── ses-2',\n",
       " '│\\xa0\\xa0     ├── anat',\n",
       " '│\\xa0\\xa0     ├── dwi',\n",
       " '│\\xa0\\xa0     └── func',\n",
       " '└── sub-142',\n",
       " '    ├── ses-1',\n",
       " '    │\\xa0\\xa0 ├── anat',\n",
       " '    │\\xa0\\xa0 ├── dwi',\n",
       " '    │\\xa0\\xa0 └── func',\n",
       " '    └── ses-2',\n",
       " '        ├── anat',\n",
       " '        ├── dwi',\n",
       " '        └── func',\n",
       " '',\n",
       " '27 directories']"
      ]
     },
     "execution_count": 2,
     "metadata": {},
     "output_type": "execute_result"
    }
   ],
   "source": [
    "# Show the data I ran on in a tree structure. Ignore the \\xa0\\xa0's. Ran on 3 of the subjects from the KKI2009 dataset.\n",
    "%system tree -d -L 3 /data/aloftus/KKI2009"
   ]
  },
  {
   "cell_type": "code",
   "execution_count": 3,
   "metadata": {},
   "outputs": [
    {
     "data": {
      "text/plain": [
       "['/data/aloftus/KKI-output/eric-branch/participant/dwi',\n",
       " '├── fiber',\n",
       " '├── preproc',\n",
       " '├── registered',\n",
       " '├── roi-connectomes',\n",
       " '│\\xa0\\xa0 ├── aal_res-1x1x1',\n",
       " '│\\xa0\\xa0 ├── brodmann_res-1x1x1',\n",
       " '│\\xa0\\xa0 ├── CPAC200_res-1x1x1',\n",
       " '│\\xa0\\xa0 ├── desikan_res-1x1x1',\n",
       " '│\\xa0\\xa0 ├── DK_res-1x1x1',\n",
       " '│\\xa0\\xa0 ├── DS00071_res-1x1x1',\n",
       " '│\\xa0\\xa0 ├── DS00096_res-1x1x1',\n",
       " '│\\xa0\\xa0 ├── DS00108_res-1x1x1',\n",
       " '│\\xa0\\xa0 ├── DS00140_res-1x1x1',\n",
       " '│\\xa0\\xa0 ├── DS00195_res-1x1x1',\n",
       " '│\\xa0\\xa0 ├── DS00278_res-1x1x1',\n",
       " '│\\xa0\\xa0 ├── DS00350_res-1x1x1',\n",
       " '│\\xa0\\xa0 ├── DS00446_res-1x1x1',\n",
       " '│\\xa0\\xa0 ├── DS00583_res-1x1x1',\n",
       " '│\\xa0\\xa0 ├── DS00833_res-1x1x1',\n",
       " '│\\xa0\\xa0 ├── DS01216_res-1x1x1',\n",
       " '│\\xa0\\xa0 ├── HarvardOxfordcort-maxprob-thr25_res-1x1x1',\n",
       " '│\\xa0\\xa0 ├── HarvardOxfordsub-maxprob-thr25_res-1x1x1',\n",
       " '│\\xa0\\xa0 ├── hemispheric_res-1x1x1',\n",
       " '│\\xa0\\xa0 ├── JHU_res-1x1x1',\n",
       " '│\\xa0\\xa0 ├── slab1068_res-1x1x1',\n",
       " '│\\xa0\\xa0 ├── slab907_res-1x1x1',\n",
       " '│\\xa0\\xa0 └── tissue_res-1x1x1',\n",
       " '├── tensor',\n",
       " '└── voxel-connectomes',\n",
       " '',\n",
       " '29 directories']"
      ]
     },
     "execution_count": 3,
     "metadata": {},
     "output_type": "execute_result"
    }
   ],
   "source": [
    "# Show eric's branch output dir\n",
    "%system tree -d -L 2 /data/aloftus/KKI-output/eric-branch/participant/dwi"
   ]
  },
  {
   "cell_type": "code",
   "execution_count": 4,
   "metadata": {},
   "outputs": [
    {
     "data": {
      "text/plain": [
       "['/data/aloftus/KKI-output/master/graphs',\n",
       " '├── AAL',\n",
       " '├── CPAC200',\n",
       " '├── desikan',\n",
       " '├── Desikan2012',\n",
       " '├── DS00071',\n",
       " '├── DS00096',\n",
       " '├── DS00108',\n",
       " '├── DS00140',\n",
       " '├── DS00195',\n",
       " '├── DS00278',\n",
       " '├── DS00350',\n",
       " '├── DS00446',\n",
       " '├── DS00583',\n",
       " '├── DS00833',\n",
       " '├── DS01216',\n",
       " '├── DS01876',\n",
       " '├── DS03231',\n",
       " '├── DS06481',\n",
       " '├── DS16784',\n",
       " '├── DS72784',\n",
       " '├── HarvardOxford',\n",
       " '├── JHU',\n",
       " '├── slab1068',\n",
       " '├── slab907',\n",
       " '└── Talairach',\n",
       " '',\n",
       " '25 directories']"
      ]
     },
     "execution_count": 4,
     "metadata": {},
     "output_type": "execute_result"
    }
   ],
   "source": [
    "# Show master branch output dir\n",
    "%system tree -d -L 2 /data/aloftus/KKI-output/master/graphs"
   ]
  },
  {
   "cell_type": "markdown",
   "metadata": {},
   "source": [
    "## Load data"
   ]
  },
  {
   "cell_type": "markdown",
   "metadata": {},
   "source": [
    "### Grab output for one subject, one session\n",
    "\n",
    "- Using JHU, sub-113, ses-1 for testing purposes"
   ]
  },
  {
   "cell_type": "code",
   "execution_count": 5,
   "metadata": {},
   "outputs": [],
   "source": [
    "# Save directory data\n",
    "eric_graphs = r'/data/aloftus/KKI-output/eric-branch/participant/dwi/roi-connectomes/JHU_res-1x1x1/'\n",
    "master_graphs = r'/data/aloftus/KKI-output/master/graphs/JHU/'"
   ]
  },
  {
   "cell_type": "code",
   "execution_count": 6,
   "metadata": {},
   "outputs": [
    {
     "name": "stdout",
     "output_type": "stream",
     "text": [
      "['sub-127_ses-2_dwi_JHU_res-1x1x1_measure-spatial-ds._elist.csv', 'sub-127_ses-1_dwi_JHU_res-1x1x1_measure-spatial-ds._elist.csv', 'sub-142_ses-1_dwi_JHU_res-1x1x1_measure-spatial-ds._elist.csv', 'sub-113_ses-2_dwi_JHU_res-1x1x1_measure-spatial-ds._elist.csv', 'sub-142_ses-2_dwi_JHU_res-1x1x1_measure-spatial-ds._elist.csv', 'sub-113_ses-1_dwi_JHU_res-1x1x1_measure-spatial-ds._elist.csv'] \n",
      "\n",
      "['sub-113_ses-2_dwi_JHU.edgelist', 'sub-142_ses-2_dwi_JHU.edgelist', 'sub-127_ses-2_dwi_JHU.edgelist', 'sub-127_ses-1_dwi_JHU.edgelist', 'sub-113_ses-1_dwi_JHU.edgelist', 'sub-142_ses-1_dwi_JHU.edgelist']\n"
     ]
    }
   ],
   "source": [
    "# Show output csv files. Arbitrarily using ses-1 of sub-113 as testing data.\n",
    "print(os.listdir(eric_graphs), '\\n')\n",
    "print(os.listdir(master_graphs))"
   ]
  },
  {
   "cell_type": "code",
   "execution_count": 7,
   "metadata": {},
   "outputs": [],
   "source": [
    "# Get networkX graph for eric's sub-113-ses-1-JHU\n",
    "eric_edgelist_location = eric_graphs + 'sub-113_ses-1_dwi_JHU_res-1x1x1_measure-spatial-ds._elist.csv'\n",
    "eric_nx = nx.read_weighted_edgelist(eric_edgelist_location, delimiter=',')\n",
    "\n",
    "# Get networkX graph for masters's sub-113-ses-1-JHU\n",
    "master_edgelist_location = master_graphs + 'sub-113_ses-1_dwi_JHU.edgelist'\n",
    "master_nx = nx.read_weighted_edgelist(master_edgelist_location)"
   ]
  },
  {
   "cell_type": "markdown",
   "metadata": {},
   "source": [
    "## quick info about these two graphs\n",
    "---"
   ]
  },
  {
   "cell_type": "code",
   "execution_count": 8,
   "metadata": {},
   "outputs": [
    {
     "data": {
      "text/plain": [
       "NodeView(('45', '48', '33', '40', '19', '35', '21', '13', '28', '11', '9', '14', '23', '7', '17', '6', '47', '25', '31', '12', '30', '3', '5', '10', '29', '44', '15', '20', '37', '42', '41', '46', '43', '27', '36', '39', '34', '8', '18', '24', '26', '1', '4', '22', '32', '16', '38', '2'))"
      ]
     },
     "execution_count": 8,
     "metadata": {},
     "output_type": "execute_result"
    }
   ],
   "source": [
    "eric_nx.nodes()"
   ]
  },
  {
   "cell_type": "code",
   "execution_count": 9,
   "metadata": {},
   "outputs": [
    {
     "data": {
      "text/plain": [
       "NodeView(('45', '48', '33', '40', '19', '35', '21', '13', '28', '11', '9', '14', '23', '7', '17', '6', '47', '38', '25', '31', '12', '30', '3', '5', '10', '29', '44', '15', '20', '37', '42', '41', '46', '43', '27', '16', '39', '34', '8', '18', '26', '1', '4', '22', '32', '36', '24', '2'))"
      ]
     },
     "execution_count": 9,
     "metadata": {},
     "output_type": "execute_result"
    }
   ],
   "source": [
    "master_nx.nodes()"
   ]
  },
  {
   "cell_type": "markdown",
   "metadata": {},
   "source": [
    "---"
   ]
  },
  {
   "cell_type": "markdown",
   "metadata": {},
   "source": [
    "## Convert to more readable format"
   ]
  },
  {
   "cell_type": "code",
   "execution_count": 26,
   "metadata": {},
   "outputs": [],
   "source": [
    "eric_mat = nx.to_numpy_matrix(eric_nx)\n",
    "master_mat = nx.to_numpy_matrix(master_nx)"
   ]
  },
  {
   "cell_type": "code",
   "execution_count": 27,
   "metadata": {},
   "outputs": [],
   "source": [
    "np.fill_diagonal(eric_mat, 0)"
   ]
  },
  {
   "cell_type": "code",
   "execution_count": 28,
   "metadata": {},
   "outputs": [
    {
     "data": {
      "text/plain": [
       "matrix([[  0,   0, 508, ...,   0,   0,   0],\n",
       "        [  0,   0,   0, ...,   0,   0,   0],\n",
       "        [508,   0,   0, ...,   0,   0,   0],\n",
       "        ...,\n",
       "        [  0,   0,   0, ...,   0,   0, 533],\n",
       "        [  0,   0,   0, ...,   0,   0,   0],\n",
       "        [  0,   0,   0, ..., 533,   0,   0]])"
      ]
     },
     "execution_count": 28,
     "metadata": {},
     "output_type": "execute_result"
    }
   ],
   "source": [
    "eric_mat.astype(int)"
   ]
  },
  {
   "cell_type": "code",
   "execution_count": 29,
   "metadata": {},
   "outputs": [
    {
     "data": {
      "text/plain": [
       "matrix([[   0,    0,   77, ...,    0,    0,    0],\n",
       "        [   0,    0,    0, ...,   11,    0,    0],\n",
       "        [  77,    0,    0, ...,    0, 2676,    0],\n",
       "        ...,\n",
       "        [   0,   11,    0, ...,    0,  795,    0],\n",
       "        [   0,    0, 2676, ...,  795,    0,    0],\n",
       "        [   0,    0,    0, ...,    0,    0,    0]])"
      ]
     },
     "execution_count": 29,
     "metadata": {},
     "output_type": "execute_result"
    }
   ],
   "source": [
    "master_mat.astype(int)"
   ]
  },
  {
   "cell_type": "code",
   "execution_count": 30,
   "metadata": {},
   "outputs": [
    {
     "data": {
      "text/plain": [
       "81230.52427505316"
      ]
     },
     "execution_count": 30,
     "metadata": {},
     "output_type": "execute_result"
    }
   ],
   "source": [
    "np.linalg.norm(eric_mat - master_mat, ord='fro')"
   ]
  },
  {
   "cell_type": "markdown",
   "metadata": {},
   "source": [
    "## Function to load and compare graphs"
   ]
  },
  {
   "cell_type": "markdown",
   "metadata": {},
   "source": [
    "Function should: \n",
    "1. Load a pair of graphs\n",
    "2. Ensure they're in a consistent and sensible format (e.g., adjacency matrix)\n",
    "3. Subtract one graph from the other\n",
    "4. Take the norm of the result"
   ]
  },
  {
   "cell_type": "code",
   "execution_count": 14,
   "metadata": {},
   "outputs": [],
   "source": [
    "def load_and_compare(master: 'path', eric: 'path'):\n",
    "    \n",
    "    # Load a pair of graphs\n",
    "    graph_pair = [nx.read_weighted_edgelist(master), nx.read_weighted_edgelist(eric, delimiter=',')]\n",
    "    \n",
    "    # Move each graph to adjacency matrix\n",
    "    graph_pair = [nx.adj_matrix(graph_pair[0]), nx.adj_matrix(graph_pair)]\n",
    "    \n",
    "    # Subtract one graph from the other\n",
    "    diff_mat = graph_pair[0] - graph_pair[1]\n",
    "    \n",
    "    # Take norm of result\n",
    "    pass"
   ]
  },
  {
   "cell_type": "markdown",
   "metadata": {},
   "source": [
    "## nx playground, to be removed"
   ]
  },
  {
   "cell_type": "code",
   "execution_count": 15,
   "metadata": {},
   "outputs": [
    {
     "data": {
      "text/plain": [
       "EdgeDataView([(24, 24, {'weight': 4150}), (25, 25, {'weight': 2300})])"
      ]
     },
     "execution_count": 15,
     "metadata": {},
     "output_type": "execute_result"
    }
   ],
   "source": [
    "G = nx.Graph()\n",
    "G.add_edge(24, 24, weight=4150)\n",
    "G.add_edge(25, 25, weight=2300)\n",
    "\n",
    "nx.to_numpy_array(G)  # numpy array is not organized the same way as the edgelist file.\n",
    "nx.to_edgelist(G)"
   ]
  },
  {
   "cell_type": "markdown",
   "metadata": {},
   "source": [
    "### Master output"
   ]
  },
  {
   "cell_type": "code",
   "execution_count": null,
   "metadata": {},
   "outputs": [],
   "source": []
  },
  {
   "cell_type": "code",
   "execution_count": null,
   "metadata": {},
   "outputs": [],
   "source": []
  },
  {
   "cell_type": "code",
   "execution_count": null,
   "metadata": {},
   "outputs": [],
   "source": []
  },
  {
   "cell_type": "code",
   "execution_count": null,
   "metadata": {},
   "outputs": [],
   "source": []
  },
  {
   "cell_type": "code",
   "execution_count": null,
   "metadata": {},
   "outputs": [],
   "source": []
  },
  {
   "cell_type": "code",
   "execution_count": null,
   "metadata": {},
   "outputs": [],
   "source": []
  },
  {
   "cell_type": "code",
   "execution_count": null,
   "metadata": {},
   "outputs": [],
   "source": []
  },
  {
   "cell_type": "code",
   "execution_count": null,
   "metadata": {},
   "outputs": [],
   "source": []
  },
  {
   "cell_type": "code",
   "execution_count": null,
   "metadata": {},
   "outputs": [],
   "source": []
  },
  {
   "cell_type": "code",
   "execution_count": null,
   "metadata": {},
   "outputs": [],
   "source": []
  }
 ],
 "metadata": {
  "kernelspec": {
   "display_name": "py3",
   "language": "python",
   "name": "py3"
  },
  "language_info": {
   "codemirror_mode": {
    "name": "ipython",
    "version": 3
   },
   "file_extension": ".py",
   "mimetype": "text/x-python",
   "name": "python",
   "nbconvert_exporter": "python",
   "pygments_lexer": "ipython3",
   "version": "3.5.2"
  }
 },
 "nbformat": 4,
 "nbformat_minor": 2
}
