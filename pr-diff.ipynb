{
 "cells": [
  {
   "cell_type": "markdown",
   "metadata": {},
   "source": [
    "# Comparing ndmg branches"
   ]
  },
  {
   "cell_type": "code",
   "execution_count": 19,
   "metadata": {},
   "outputs": [],
   "source": [
    "import os\n",
    "import pandas as pd\n",
    "import numpy as np\n",
    "import matplotlib.pyplot as plt\n",
    "import seaborn as sns\n",
    "import networkx as nx"
   ]
  },
  {
   "cell_type": "markdown",
   "metadata": {},
   "source": [
    "## Metadata"
   ]
  },
  {
   "cell_type": "markdown",
   "metadata": {},
   "source": [
    "- This analysis uses the KKI2009 data <a href=\"http://mrneurodata.s3-website-us-east-1.amazonaws.com/KKI2009/\" target=\"_blank\">here</a>.\n",
    "- Docker containers were used.\n",
    "    - <a href=\"https://hub.docker.com/r/bids/ndmg/\" target=\"_blank\">master</a>\n",
    "    - <a href=\"https://hub.docker.com/r/neurodata/m3r-release/\" target=\"_blank\">eric's branch</a>, build 0.1.1\n",
    "- I used the outputs in \n",
    "    - **master**: /graphs/ (.edgelist)\n",
    "    - **eric**: /dwi/roi-connectomes (csv)"
   ]
  },
  {
   "cell_type": "markdown",
   "metadata": {},
   "source": [
    "## Plan\n",
    "\n",
    "1. Eric\n",
    "    - Load data as np array\n",
    "    - Convert to adjacency matrix\n",
    "2. Master\n",
    "    - Load data as np array\n",
    "    - Convert to adjacency matrixc\n",
    "3. Define a function that takes a file location as input and returns an adjacency matrix as output\n",
    "    - Check whether file location is from master or eric\n",
    "    - Possibly needs to do different things depending on which branch it's taking data from\n",
    "4. For each pair of supposedly-equivalent graphs, take the difference\n",
    "5. Take the norm of the above\n",
    "6. Plot this for every parcellation\n",
    "7. Equivalent analysis for group-level data if individual analysis looks good"
   ]
  },
  {
   "cell_type": "markdown",
   "metadata": {},
   "source": [
    "## Show where data is coming from"
   ]
  },
  {
   "cell_type": "code",
   "execution_count": 20,
   "metadata": {
    "scrolled": true
   },
   "outputs": [
    {
     "data": {
      "text/plain": [
       "['/data/aloftus/pr-diff/KKI/KKI2009',\n",
       " '├── sub-113',\n",
       " '│\\xa0\\xa0 ├── ses-1',\n",
       " '│\\xa0\\xa0 │\\xa0\\xa0 ├── anat',\n",
       " '│\\xa0\\xa0 │\\xa0\\xa0 ├── dwi',\n",
       " '│\\xa0\\xa0 │\\xa0\\xa0 └── func',\n",
       " '│\\xa0\\xa0 └── ses-2',\n",
       " '│\\xa0\\xa0     ├── anat',\n",
       " '│\\xa0\\xa0     ├── dwi',\n",
       " '│\\xa0\\xa0     └── func',\n",
       " '├── sub-127',\n",
       " '│\\xa0\\xa0 ├── ses-1',\n",
       " '│\\xa0\\xa0 │\\xa0\\xa0 ├── anat',\n",
       " '│\\xa0\\xa0 │\\xa0\\xa0 ├── dwi',\n",
       " '│\\xa0\\xa0 │\\xa0\\xa0 └── func',\n",
       " '│\\xa0\\xa0 └── ses-2',\n",
       " '│\\xa0\\xa0     ├── anat',\n",
       " '│\\xa0\\xa0     ├── dwi',\n",
       " '│\\xa0\\xa0     └── func',\n",
       " '└── sub-142',\n",
       " '    ├── ses-1',\n",
       " '    │\\xa0\\xa0 ├── anat',\n",
       " '    │\\xa0\\xa0 ├── dwi',\n",
       " '    │\\xa0\\xa0 └── func',\n",
       " '    └── ses-2',\n",
       " '        ├── anat',\n",
       " '        ├── dwi',\n",
       " '        └── func',\n",
       " '',\n",
       " '27 directories']"
      ]
     },
     "execution_count": 20,
     "metadata": {},
     "output_type": "execute_result"
    }
   ],
   "source": [
    "# Show the data I ran on in a tree structure. Ignore the \\xa0\\xa0's. Ran on 3 of the subjects from the KKI2009 dataset.\n",
    "%system tree -d -L 3 /data/aloftus/pr-diff/KKI/KKI2009"
   ]
  },
  {
   "cell_type": "code",
   "execution_count": 21,
   "metadata": {},
   "outputs": [
    {
     "data": {
      "text/plain": [
       "['/data/aloftus/pr-diff/KKI/KKI-output/eric-branch/participant/dwi',\n",
       " '├── fiber',\n",
       " '├── preproc',\n",
       " '├── registered',\n",
       " '├── roi-connectomes',\n",
       " '│\\xa0\\xa0 ├── aal_res-1x1x1',\n",
       " '│\\xa0\\xa0 ├── brodmann_res-1x1x1',\n",
       " '│\\xa0\\xa0 ├── CPAC200_res-1x1x1',\n",
       " '│\\xa0\\xa0 ├── desikan_res-1x1x1',\n",
       " '│\\xa0\\xa0 ├── DK_res-1x1x1',\n",
       " '│\\xa0\\xa0 ├── DS00071_res-1x1x1',\n",
       " '│\\xa0\\xa0 ├── DS00096_res-1x1x1',\n",
       " '│\\xa0\\xa0 ├── DS00108_res-1x1x1',\n",
       " '│\\xa0\\xa0 ├── DS00140_res-1x1x1',\n",
       " '│\\xa0\\xa0 ├── DS00195_res-1x1x1',\n",
       " '│\\xa0\\xa0 ├── DS00278_res-1x1x1',\n",
       " '│\\xa0\\xa0 ├── DS00350_res-1x1x1',\n",
       " '│\\xa0\\xa0 ├── DS00446_res-1x1x1',\n",
       " '│\\xa0\\xa0 ├── DS00583_res-1x1x1',\n",
       " '│\\xa0\\xa0 ├── DS00833_res-1x1x1',\n",
       " '│\\xa0\\xa0 ├── DS01216_res-1x1x1',\n",
       " '│\\xa0\\xa0 ├── HarvardOxfordcort-maxprob-thr25_res-1x1x1',\n",
       " '│\\xa0\\xa0 ├── HarvardOxfordsub-maxprob-thr25_res-1x1x1',\n",
       " '│\\xa0\\xa0 ├── hemispheric_res-1x1x1',\n",
       " '│\\xa0\\xa0 ├── JHU_res-1x1x1',\n",
       " '│\\xa0\\xa0 ├── slab1068_res-1x1x1',\n",
       " '│\\xa0\\xa0 ├── slab907_res-1x1x1',\n",
       " '│\\xa0\\xa0 └── tissue_res-1x1x1',\n",
       " '├── tensor',\n",
       " '└── voxel-connectomes',\n",
       " '',\n",
       " '29 directories']"
      ]
     },
     "execution_count": 21,
     "metadata": {},
     "output_type": "execute_result"
    }
   ],
   "source": [
    "# Show eric's branch output dir\n",
    "%system tree -d -L 2 /data/aloftus/pr-diff/KKI/KKI-output/eric-branch/participant/dwi"
   ]
  },
  {
   "cell_type": "code",
   "execution_count": 22,
   "metadata": {},
   "outputs": [
    {
     "data": {
      "text/plain": [
       "['/data/aloftus/pr-diff/KKI/KKI-output/master/graphs',\n",
       " '├── AAL',\n",
       " '├── CPAC200',\n",
       " '├── desikan',\n",
       " '├── Desikan2012',\n",
       " '├── DS00071',\n",
       " '├── DS00096',\n",
       " '├── DS00108',\n",
       " '├── DS00140',\n",
       " '├── DS00195',\n",
       " '├── DS00278',\n",
       " '├── DS00350',\n",
       " '├── DS00446',\n",
       " '├── DS00583',\n",
       " '├── DS00833',\n",
       " '├── DS01216',\n",
       " '├── DS01876',\n",
       " '├── DS03231',\n",
       " '├── DS06481',\n",
       " '├── DS16784',\n",
       " '├── DS72784',\n",
       " '├── HarvardOxford',\n",
       " '├── JHU',\n",
       " '├── slab1068',\n",
       " '├── slab907',\n",
       " '└── Talairach',\n",
       " '',\n",
       " '25 directories']"
      ]
     },
     "execution_count": 22,
     "metadata": {},
     "output_type": "execute_result"
    }
   ],
   "source": [
    "# Show master branch output dir\n",
    "%system tree -d -L 2 /data/aloftus/pr-diff/KKI/KKI-output/master/graphs"
   ]
  },
  {
   "cell_type": "markdown",
   "metadata": {},
   "source": [
    "## Load data"
   ]
  },
  {
   "cell_type": "markdown",
   "metadata": {},
   "source": [
    "### Grab output for one subject, one session\n",
    "\n",
    "- Using Desikan, sub-113, ses-1 for testing purposes"
   ]
  },
  {
   "cell_type": "code",
   "execution_count": 89,
   "metadata": {},
   "outputs": [],
   "source": [
    "# Save directory data\n",
    "eric_graphs = r'/data/aloftus/pr-diff/KKI/KKI-output/eric-branch/participant/dwi/roi-connectomes/DK_res-1x1x1/'\n",
    "master_graphs = r'/data/aloftus/pr-diff/KKI/KKI-output/master/graphs/Desikan2012/'"
   ]
  },
  {
   "cell_type": "code",
   "execution_count": 90,
   "metadata": {},
   "outputs": [
    {
     "name": "stdout",
     "output_type": "stream",
     "text": [
      "['sub-113_ses-1_dwi_DK_res-1x1x1_measure-spatial-ds._elist.csv', 'sub-113_ses-2_dwi_DK_res-1x1x1_measure-spatial-ds._elist.csv', 'sub-142_ses-1_dwi_DK_res-1x1x1_measure-spatial-ds._elist.csv', 'sub-127_ses-2_dwi_DK_res-1x1x1_measure-spatial-ds._elist.csv', 'sub-142_ses-2_dwi_DK_res-1x1x1_measure-spatial-ds._elist.csv', 'sub-127_ses-1_dwi_DK_res-1x1x1_measure-spatial-ds._elist.csv'] \n",
      "\n",
      "['sub-127_ses-1_dwi_Desikan2012.edgelist', 'sub-113_ses-2_dwi_Desikan2012.edgelist', 'sub-142_ses-1_dwi_Desikan2012.edgelist', 'sub-142_ses-2_dwi_Desikan2012.edgelist', 'sub-127_ses-2_dwi_Desikan2012.edgelist', 'sub-113_ses-1_dwi_Desikan2012.edgelist']\n"
     ]
    }
   ],
   "source": [
    "# Show output csv files. Arbitrarily using ses-1 of sub-113 as testing data.\n",
    "print(os.listdir(eric_graphs), '\\n')\n",
    "print(os.listdir(master_graphs))"
   ]
  },
  {
   "cell_type": "code",
   "execution_count": 91,
   "metadata": {},
   "outputs": [],
   "source": [
    "# Get networkX graph for eric's sub-113-ses-1-JHU\n",
    "eric_edgelist_location = eric_graphs + 'sub-113_ses-1_dwi_DK_res-1x1x1_measure-spatial-ds._elist.csv'\n",
    "eric_nx = nx.read_weighted_edgelist(eric_edgelist_location, delimiter=',')\n",
    "\n",
    "# Get networkX graph for masters's sub-113-ses-1-JHU\n",
    "master_edgelist_location = master_graphs + 'sub-113_ses-1_dwi_Desikan2012.edgelist'\n",
    "master_nx = nx.read_weighted_edgelist(master_edgelist_location, delimiter=' ')"
   ]
  },
  {
   "cell_type": "code",
   "execution_count": 92,
   "metadata": {},
   "outputs": [
    {
     "data": {
      "text/html": [
       "<div>\n",
       "<style scoped>\n",
       "    .dataframe tbody tr th:only-of-type {\n",
       "        vertical-align: middle;\n",
       "    }\n",
       "\n",
       "    .dataframe tbody tr th {\n",
       "        vertical-align: top;\n",
       "    }\n",
       "\n",
       "    .dataframe thead th {\n",
       "        text-align: right;\n",
       "    }\n",
       "</style>\n",
       "<table border=\"1\" class=\"dataframe\">\n",
       "  <thead>\n",
       "    <tr style=\"text-align: right;\">\n",
       "      <th></th>\n",
       "      <th>0</th>\n",
       "      <th>1</th>\n",
       "      <th>2</th>\n",
       "    </tr>\n",
       "  </thead>\n",
       "  <tbody>\n",
       "    <tr>\n",
       "      <th>0</th>\n",
       "      <td>1</td>\n",
       "      <td>1</td>\n",
       "      <td>11916</td>\n",
       "    </tr>\n",
       "    <tr>\n",
       "      <th>1</th>\n",
       "      <td>1</td>\n",
       "      <td>2</td>\n",
       "      <td>575</td>\n",
       "    </tr>\n",
       "    <tr>\n",
       "      <th>2</th>\n",
       "      <td>1</td>\n",
       "      <td>3</td>\n",
       "      <td>38</td>\n",
       "    </tr>\n",
       "    <tr>\n",
       "      <th>3</th>\n",
       "      <td>1</td>\n",
       "      <td>36</td>\n",
       "      <td>4</td>\n",
       "    </tr>\n",
       "    <tr>\n",
       "      <th>4</th>\n",
       "      <td>1</td>\n",
       "      <td>37</td>\n",
       "      <td>1315</td>\n",
       "    </tr>\n",
       "  </tbody>\n",
       "</table>\n",
       "</div>"
      ],
      "text/plain": [
       "   0   1      2\n",
       "0  1   1  11916\n",
       "1  1   2    575\n",
       "2  1   3     38\n",
       "3  1  36      4\n",
       "4  1  37   1315"
      ]
     },
     "execution_count": 92,
     "metadata": {},
     "output_type": "execute_result"
    }
   ],
   "source": [
    "# Quick look at the edgelists\n",
    "pd.read_csv(eric_edgelist_location, delimiter=',', header=None).head()"
   ]
  },
  {
   "cell_type": "code",
   "execution_count": 94,
   "metadata": {},
   "outputs": [
    {
     "data": {
      "text/html": [
       "<div>\n",
       "<style scoped>\n",
       "    .dataframe tbody tr th:only-of-type {\n",
       "        vertical-align: middle;\n",
       "    }\n",
       "\n",
       "    .dataframe tbody tr th {\n",
       "        vertical-align: top;\n",
       "    }\n",
       "\n",
       "    .dataframe thead th {\n",
       "        text-align: right;\n",
       "    }\n",
       "</style>\n",
       "<table border=\"1\" class=\"dataframe\">\n",
       "  <thead>\n",
       "    <tr style=\"text-align: right;\">\n",
       "      <th></th>\n",
       "      <th>0</th>\n",
       "      <th>1</th>\n",
       "      <th>2</th>\n",
       "    </tr>\n",
       "  </thead>\n",
       "  <tbody>\n",
       "    <tr>\n",
       "      <th>0</th>\n",
       "      <td>1</td>\n",
       "      <td>34</td>\n",
       "      <td>3356</td>\n",
       "    </tr>\n",
       "    <tr>\n",
       "      <th>1</th>\n",
       "      <td>1</td>\n",
       "      <td>3</td>\n",
       "      <td>21</td>\n",
       "    </tr>\n",
       "    <tr>\n",
       "      <th>2</th>\n",
       "      <td>1</td>\n",
       "      <td>4</td>\n",
       "      <td>297</td>\n",
       "    </tr>\n",
       "    <tr>\n",
       "      <th>3</th>\n",
       "      <td>1</td>\n",
       "      <td>37</td>\n",
       "      <td>3542</td>\n",
       "    </tr>\n",
       "    <tr>\n",
       "      <th>4</th>\n",
       "      <td>1</td>\n",
       "      <td>6</td>\n",
       "      <td>1339</td>\n",
       "    </tr>\n",
       "  </tbody>\n",
       "</table>\n",
       "</div>"
      ],
      "text/plain": [
       "   0   1     2\n",
       "0  1  34  3356\n",
       "1  1   3    21\n",
       "2  1   4   297\n",
       "3  1  37  3542\n",
       "4  1   6  1339"
      ]
     },
     "execution_count": 94,
     "metadata": {},
     "output_type": "execute_result"
    }
   ],
   "source": [
    "pd.read_csv(master_edgelist_location, header=None, delimiter=' ').head()"
   ]
  },
  {
   "cell_type": "markdown",
   "metadata": {},
   "source": [
    "## quick info about these two graphs\n",
    "---"
   ]
  },
  {
   "cell_type": "code",
   "execution_count": 95,
   "metadata": {},
   "outputs": [
    {
     "data": {
      "text/plain": [
       "False"
      ]
     },
     "execution_count": 95,
     "metadata": {},
     "output_type": "execute_result"
    }
   ],
   "source": [
    "# Node ordering was different\n",
    "list(eric_nx.nodes()) == list(master_nx.nodes())"
   ]
  },
  {
   "cell_type": "code",
   "execution_count": 96,
   "metadata": {},
   "outputs": [
    {
     "data": {
      "text/plain": [
       "True"
      ]
     },
     "execution_count": 96,
     "metadata": {},
     "output_type": "execute_result"
    }
   ],
   "source": [
    "sorted(list(eric_nx.nodes())) == sorted(list(master_nx.nodes()))"
   ]
  },
  {
   "cell_type": "code",
   "execution_count": 97,
   "metadata": {},
   "outputs": [],
   "source": [
    "eric_mat = nx.to_numpy_matrix(eric_nx, nodelist=sorted(list(master_nx.nodes())))\n",
    "master_mat = nx.to_numpy_matrix(master_nx, nodelist=sorted(list(master_nx.nodes())))"
   ]
  },
  {
   "cell_type": "code",
   "execution_count": 98,
   "metadata": {},
   "outputs": [
    {
     "data": {
      "text/plain": [
       "matrix([[1.1916e+04, 0.0000e+00, 0.0000e+00, ..., 0.0000e+00, 0.0000e+00,\n",
       "         0.0000e+00],\n",
       "        [0.0000e+00, 1.9290e+04, 2.7210e+03, ..., 0.0000e+00, 0.0000e+00,\n",
       "         2.1060e+03],\n",
       "        [0.0000e+00, 2.7210e+03, 1.0079e+04, ..., 0.0000e+00, 0.0000e+00,\n",
       "         1.0000e+01],\n",
       "        ...,\n",
       "        [0.0000e+00, 0.0000e+00, 0.0000e+00, ..., 7.7710e+03, 1.4000e+01,\n",
       "         0.0000e+00],\n",
       "        [0.0000e+00, 0.0000e+00, 0.0000e+00, ..., 1.4000e+01, 3.2918e+04,\n",
       "         0.0000e+00],\n",
       "        [0.0000e+00, 2.1060e+03, 1.0000e+01, ..., 0.0000e+00, 0.0000e+00,\n",
       "         6.2440e+03]])"
      ]
     },
     "execution_count": 98,
     "metadata": {},
     "output_type": "execute_result"
    }
   ],
   "source": [
    "eric_mat"
   ]
  },
  {
   "cell_type": "code",
   "execution_count": 100,
   "metadata": {},
   "outputs": [],
   "source": [
    "np.fill_diagonal(eric_mat, 0)"
   ]
  },
  {
   "cell_type": "code",
   "execution_count": 101,
   "metadata": {},
   "outputs": [
    {
     "data": {
      "text/plain": [
       "matrix([[   0,    0,    0, ...,    0,    0,    0],\n",
       "        [   0,    0, 2721, ...,    0,    0, 2106],\n",
       "        [   0, 2721,    0, ...,    0,    0,   10],\n",
       "        ...,\n",
       "        [   0,    0,    0, ...,    0,   14,    0],\n",
       "        [   0,    0,    0, ...,   14,    0,    0],\n",
       "        [   0, 2106,   10, ...,    0,    0,    0]])"
      ]
     },
     "execution_count": 101,
     "metadata": {},
     "output_type": "execute_result"
    }
   ],
   "source": [
    "eric_mat.astype(int)"
   ]
  },
  {
   "cell_type": "code",
   "execution_count": 102,
   "metadata": {},
   "outputs": [
    {
     "data": {
      "text/plain": [
       "matrix([[   0,   35,    0, ...,    0,    0,    0],\n",
       "        [  35,    0, 1391, ...,    0,    0, 1134],\n",
       "        [   0, 1391,    0, ...,    0,    0,    7],\n",
       "        ...,\n",
       "        [   0,    0,    0, ...,    0,   97,    0],\n",
       "        [   0,    0,    0, ...,   97,    0,    0],\n",
       "        [   0, 1134,    7, ...,    0,    0,    0]])"
      ]
     },
     "execution_count": 102,
     "metadata": {},
     "output_type": "execute_result"
    }
   ],
   "source": [
    "master_mat.astype(int)"
   ]
  },
  {
   "cell_type": "code",
   "execution_count": 103,
   "metadata": {},
   "outputs": [
    {
     "data": {
      "text/plain": [
       "38730.20074825329"
      ]
     },
     "execution_count": 103,
     "metadata": {},
     "output_type": "execute_result"
    }
   ],
   "source": [
    "np.linalg.norm(eric_mat - master_mat, ord='fro')"
   ]
  },
  {
   "cell_type": "markdown",
   "metadata": {},
   "source": [
    "## Resulting graphs"
   ]
  },
  {
   "cell_type": "code",
   "execution_count": 104,
   "metadata": {},
   "outputs": [
    {
     "data": {
      "image/png": "[encoded data removed]",
      "text/plain": [
       "<Figure size 432x288 with 1 Axes>"
      ]
     },
     "metadata": {
      "needs_background": "light"
     },
     "output_type": "display_data"
    }
   ],
   "source": [
    "plt.imshow(np.log10(eric_mat + 1));"
   ]
  },
  {
   "cell_type": "code",
   "execution_count": 105,
   "metadata": {},
   "outputs": [
    {
     "data": {
      "image/png": "[encoded data removed]",
      "text/plain": [
       "<Figure size 432x288 with 1 Axes>"
      ]
     },
     "metadata": {
      "needs_background": "light"
     },
     "output_type": "display_data"
    }
   ],
   "source": [
    "plt.imshow(np.log10(master_mat + 1));"
   ]
  },
  {
   "cell_type": "markdown",
   "metadata": {},
   "source": [
    "## Function to load and compare graphs"
   ]
  },
  {
   "cell_type": "markdown",
   "metadata": {},
   "source": [
    "Function should: \n",
    "1. Load a pair of graphs\n",
    "2. Ensure they're in a consistent and sensible format (e.g., adjacency matrix)\n",
    "3. Subtract one graph from the other\n",
    "4. Take the norm of the result"
   ]
  },
  {
   "cell_type": "code",
   "execution_count": 106,
   "metadata": {},
   "outputs": [],
   "source": [
    "# Will be useful for future analysis if needed\n",
    "def load_and_compare(master: 'path', eric: 'path'):\n",
    "    \n",
    "    # Load a pair of graphs, convert to np array, remove diagonals in Eric's\n",
    "    mast_nx = nx.read_weighted_edgelist(master)\n",
    "    eric_nx = nx.read_weighted_edgelist(eric, delimiter=',')\n",
    "    \n",
    "    # Move each graph to adjacency matrix\n",
    "    master_mat = nx.to_numpy_matrix(master_nx)\n",
    "    eric_mat = nx.to_numpy_matrix(eric_nx)\n",
    "    \n",
    "    np.fill_diagonal(eric_mat, 0)\n",
    "    \n",
    "    # Subtract one graph from the other\n",
    "    diff_mat = eric_mat - master_mat\n",
    "    \n",
    "    # Return a tuple of the master graph, eric graph, and norm of result\n",
    "    return (master_mat, eric_mat, np.linalg.norm(eric_mat - master_mat, ord='fro'))"
   ]
  },
  {
   "cell_type": "code",
   "execution_count": null,
   "metadata": {},
   "outputs": [],
   "source": []
  }
 ],
 "metadata": {
  "kernelspec": {
   "display_name": "py3",
   "language": "python",
   "name": "py3"
  },
  "language_info": {
   "codemirror_mode": {
    "name": "ipython",
    "version": 3
   },
   "file_extension": ".py",
   "mimetype": "text/x-python",
   "name": "python",
   "nbconvert_exporter": "python",
   "pygments_lexer": "ipython3",
   "version": "3.5.2"
  }
 },
 "nbformat": 4,
 "nbformat_minor": 2
}
