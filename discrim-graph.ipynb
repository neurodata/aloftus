{
 "cells": [
  {
   "cell_type": "markdown",
   "metadata": {},
   "source": [
    "## make adjacency matrix to export"
   ]
  },
  {
   "cell_type": "code",
   "execution_count": 62,
   "metadata": {},
   "outputs": [],
   "source": [
    "from pathlib import Path\n",
    "import os\n",
    "import numpy as np\n",
    "import networkx as nx"
   ]
  },
  {
   "cell_type": "markdown",
   "metadata": {},
   "source": [
    "btw, pathlib.Path is amazing, just started playing with it, fully object-oriented path manipulation"
   ]
  },
  {
   "cell_type": "markdown",
   "metadata": {},
   "source": [
    "### set up paths, etc"
   ]
  },
  {
   "cell_type": "code",
   "execution_count": 63,
   "metadata": {},
   "outputs": [],
   "source": [
    "p = Path('DK_res-1x1x1')"
   ]
  },
  {
   "cell_type": "code",
   "execution_count": 64,
   "metadata": {},
   "outputs": [
    {
     "data": {
      "text/plain": [
       "[PosixPath('DK_res-1x1x1/sub-NDARFR109LKT_acq-64dir_dwi_DK_res-1x1x1_measure-spatial-ds._elist.csv'),\n",
       " PosixPath('DK_res-1x1x1/sub-NDARCT933HF2_acq-64dir_dwi_DK_res-1x1x1_measure-spatial-ds._elist.csv')]"
      ]
     },
     "execution_count": 64,
     "metadata": {},
     "output_type": "execute_result"
    }
   ],
   "source": [
    "# making sure I know what iterdir() does\n",
    "[i for i in p.iterdir()][:2]"
   ]
  },
  {
   "cell_type": "markdown",
   "metadata": {},
   "source": [
    "### grab graphs"
   ]
  },
  {
   "cell_type": "code",
   "execution_count": 65,
   "metadata": {},
   "outputs": [],
   "source": [
    "# list of numpy matrices\n",
    "graphs = [nx.read_weighted_edgelist(i, delimiter=',') \n",
    "          for i in p.iterdir()]"
   ]
  },
  {
   "cell_type": "markdown",
   "metadata": {},
   "source": [
    "### check nodelists, output sorted version to numpy matrix"
   ]
  },
  {
   "cell_type": "code",
   "execution_count": 66,
   "metadata": {},
   "outputs": [
    {
     "data": {
      "text/plain": [
       "NodeView(('1', '2', '3', '4', '5', '6', '7', '8', '10', '12', '16', '17', '22', '23', '24', '25', '28', '30', '32', '34', '35', '36', '37', '38', '39', '40', '41', '42', '44', '45', '48', '49', '53', '77', '78', '80', '83', '18', '19', '20', '26', '64', '66', '71', '73', '76', '79', '9', '29', '31', '50', '51', '58', '59', '60', '69', '70', '81', '57', '61', '72', '11', '13', '14', '15', '52', '54', '55', '33', '56', '21', '27', '62', '63', '65', '68', '82', '43', '46', '75', '47', '74', '67'))"
      ]
     },
     "execution_count": 66,
     "metadata": {},
     "output_type": "execute_result"
    }
   ],
   "source": [
    "graphs[0].nodes()"
   ]
  },
  {
   "cell_type": "code",
   "execution_count": 67,
   "metadata": {},
   "outputs": [
    {
     "data": {
      "text/plain": [
       "NodeView(('1', '32', '2', '3', '36', '5', '6', '39', '8', '7', '77', '34', '4', '37', '28', '48', '42', '12', '45', '80', '49', '53', '38', '10', '33', '9', '11', '16', '17', '18', '35', '41', '83', '13', '14', '20', '30', '31', '51', '52', '54', '57', '59', '76', '79', '19', '23', '21', '22', '24', '61', '62', '63', '55', '15', '56', '40', '25', '26', '29', '78', '27', '65', '75', '69', '73', '81', '82', '43', '46', '64', '66', '68', '70', '71', '44', '47', '74', '50', '58', '60', '72', '67'))"
      ]
     },
     "execution_count": 67,
     "metadata": {},
     "output_type": "execute_result"
    }
   ],
   "source": [
    "graphs[1].nodes()"
   ]
  },
  {
   "cell_type": "markdown",
   "metadata": {},
   "source": [
    "check the below list comprehension, because I'm not 100% confident it's right"
   ]
  },
  {
   "cell_type": "code",
   "execution_count": 68,
   "metadata": {},
   "outputs": [],
   "source": [
    "graphs = [nx.to_numpy_matrix(g, nodelist=sorted(list(graphs[i].nodes())))\n",
    "          for i, g in enumerate(graphs)]"
   ]
  },
  {
   "cell_type": "markdown",
   "metadata": {},
   "source": [
    "### remove diagonals"
   ]
  },
  {
   "cell_type": "code",
   "execution_count": 69,
   "metadata": {},
   "outputs": [
    {
     "data": {
      "text/plain": [
       "matrix([[1.62190e+04, 3.00000e+01, 0.00000e+00, ..., 0.00000e+00,\n",
       "         9.00000e+00, 0.00000e+00],\n",
       "        [3.00000e+01, 3.90200e+04, 6.11000e+02, ..., 0.00000e+00,\n",
       "         7.36300e+03, 6.54900e+03],\n",
       "        [0.00000e+00, 6.11000e+02, 9.15300e+03, ..., 0.00000e+00,\n",
       "         0.00000e+00, 0.00000e+00],\n",
       "        ...,\n",
       "        [0.00000e+00, 0.00000e+00, 0.00000e+00, ..., 2.93400e+03,\n",
       "         0.00000e+00, 0.00000e+00],\n",
       "        [9.00000e+00, 7.36300e+03, 0.00000e+00, ..., 0.00000e+00,\n",
       "         1.03801e+05, 2.12200e+03],\n",
       "        [0.00000e+00, 6.54900e+03, 0.00000e+00, ..., 0.00000e+00,\n",
       "         2.12200e+03, 1.83070e+04]])"
      ]
     },
     "execution_count": 69,
     "metadata": {},
     "output_type": "execute_result"
    }
   ],
   "source": [
    "graphs[0]"
   ]
  },
  {
   "cell_type": "code",
   "execution_count": 70,
   "metadata": {},
   "outputs": [],
   "source": [
    "for i, _ in enumerate(graphs):\n",
    "    np.fill_diagonal(graphs[i], 0)"
   ]
  },
  {
   "cell_type": "markdown",
   "metadata": {},
   "source": [
    "### consider LLC somehow"
   ]
  },
  {
   "cell_type": "code",
   "execution_count": null,
   "metadata": {},
   "outputs": [],
   "source": [
    "# ???"
   ]
  },
  {
   "cell_type": "markdown",
   "metadata": {},
   "source": [
    "### make single output graph"
   ]
  },
  {
   "cell_type": "code",
   "execution_count": null,
   "metadata": {},
   "outputs": [],
   "source": [
    "# for each element of graphs, flatten that element\n",
    "# then, append that element as a row in the final output matrix"
   ]
  },
  {
   "cell_type": "markdown",
   "metadata": {},
   "source": [
    "### save as csv"
   ]
  },
  {
   "cell_type": "code",
   "execution_count": null,
   "metadata": {},
   "outputs": [],
   "source": [
    "# np.savetxt('HBN_output.csv', graph)"
   ]
  }
 ],
 "metadata": {
  "kernelspec": {
   "display_name": "py3",
   "language": "python",
   "name": "py3"
  },
  "language_info": {
   "codemirror_mode": {
    "name": "ipython",
    "version": 3
   },
   "file_extension": ".py",
   "mimetype": "text/x-python",
   "name": "python",
   "nbconvert_exporter": "python",
   "pygments_lexer": "ipython3",
   "version": "3.7.2"
  }
 },
 "nbformat": 4,
 "nbformat_minor": 2
}
