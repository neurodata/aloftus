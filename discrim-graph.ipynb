{
 "cells": [
  {
   "cell_type": "markdown",
   "metadata": {},
   "source": [
    "## make adjacency matrix to export"
   ]
  },
  {
   "cell_type": "code",
   "execution_count": 219,
   "metadata": {},
   "outputs": [],
   "source": [
    "from pathlib import Path\n",
    "import os, re\n",
    "import numpy as np\n",
    "import networkx as nx"
   ]
  },
  {
   "cell_type": "markdown",
   "metadata": {},
   "source": [
    "btw, pathlib.Path is amazing, just started playing with it, fully object-oriented path manipulation"
   ]
  },
  {
   "cell_type": "markdown",
   "metadata": {},
   "source": [
    "### set up paths, etc"
   ]
  },
  {
   "cell_type": "code",
   "execution_count": 220,
   "metadata": {},
   "outputs": [
    {
     "data": {
      "text/plain": [
       "'/Users/alex/Dropbox/NeuroData/ndmg-top/exploration/discriminability'"
      ]
     },
     "execution_count": 220,
     "metadata": {},
     "output_type": "execute_result"
    }
   ],
   "source": [
    "%pwd"
   ]
  },
  {
   "cell_type": "code",
   "execution_count": 221,
   "metadata": {},
   "outputs": [
    {
     "name": "stdout",
     "output_type": "stream",
     "text": [
      "JJ1~1~1~1~1~1~1~              output-explanation-master.md\n",
      "README.md                     output-explanation-merge.md\n",
      "\u001b[34mdesikan_res-1x1x1\u001b[m\u001b[m/            pr-diff.ipynb\n",
      "discrim-graph.ipynb\n"
     ]
    }
   ],
   "source": [
    "%ls"
   ]
  },
  {
   "cell_type": "code",
   "execution_count": 222,
   "metadata": {},
   "outputs": [],
   "source": [
    "p = Path('desikan_res-1x1x1')"
   ]
  },
  {
   "cell_type": "code",
   "execution_count": 223,
   "metadata": {},
   "outputs": [
    {
     "data": {
      "text/plain": [
       "[PosixPath('desikan_res-1x1x1/sub-0025427_ses-9_dwi_desikan_res-1x1x1_measure-spatial-ds._elist.csv'),\n",
       " PosixPath('desikan_res-1x1x1/sub-0025441_ses-7_dwi_desikan_res-1x1x1_measure-spatial-ds._elist.csv'),\n",
       " PosixPath('desikan_res-1x1x1/sub-0025441_ses-1_dwi_desikan_res-1x1x1_measure-spatial-ds._elist.csv'),\n",
       " PosixPath('desikan_res-1x1x1/sub-0025427_ses-3_dwi_desikan_res-1x1x1_measure-spatial-ds._elist.csv'),\n",
       " PosixPath('desikan_res-1x1x1/sub-0025427_ses-5_dwi_desikan_res-1x1x1_measure-spatial-ds._elist.csv')]"
      ]
     },
     "execution_count": 223,
     "metadata": {},
     "output_type": "execute_result"
    }
   ],
   "source": [
    "# making sure I know what iterdir() does\n",
    "[i for i in p.iterdir()][:5]"
   ]
  },
  {
   "cell_type": "code",
   "execution_count": 224,
   "metadata": {},
   "outputs": [],
   "source": [
    "num_subj = len([i for i in p.iterdir()])"
   ]
  },
  {
   "cell_type": "markdown",
   "metadata": {},
   "source": [
    "### grab graphs"
   ]
  },
  {
   "cell_type": "code",
   "execution_count": 225,
   "metadata": {},
   "outputs": [],
   "source": [
    "# list of numpy matrices\n",
    "graphs = [nx.read_weighted_edgelist(str(i), delimiter=',') \n",
    "          for i in p.iterdir()]"
   ]
  },
  {
   "cell_type": "markdown",
   "metadata": {},
   "source": [
    "### check nodelists, output sorted version to numpy matrix"
   ]
  },
  {
   "cell_type": "code",
   "execution_count": 226,
   "metadata": {},
   "outputs": [
    {
     "data": {
      "text/plain": [
       "100"
      ]
     },
     "execution_count": 226,
     "metadata": {},
     "output_type": "execute_result"
    }
   ],
   "source": [
    "len(graphs)"
   ]
  },
  {
   "cell_type": "code",
   "execution_count": 227,
   "metadata": {},
   "outputs": [
    {
     "data": {
      "text/plain": [
       "(70, 70)"
      ]
     },
     "execution_count": 227,
     "metadata": {},
     "output_type": "execute_result"
    }
   ],
   "source": [
    "nx.to_numpy_array(graphs[0]).shape"
   ]
  },
  {
   "cell_type": "code",
   "execution_count": 228,
   "metadata": {},
   "outputs": [
    {
     "data": {
      "text/plain": [
       "NodeView(('1', '2', '3', '4', '5', '6', '7', '8', '9', '10', '11', '12', '13', '14', '15', '16', '17', '18', '19', '20', '21', '22', '23', '24', '25', '26', '27', '28', '29', '30', '31', '32', '33', '34', '35', '36', '37', '38', '39', '40', '41', '42', '43', '44', '45', '46', '47', '48', '49', '50', '51', '52', '53', '54', '55', '56', '57', '58', '59', '60', '61', '62', '63', '64', '65', '66', '67', '68', '69', '70'))"
      ]
     },
     "execution_count": 228,
     "metadata": {},
     "output_type": "execute_result"
    }
   ],
   "source": [
    "graphs[0].nodes()"
   ]
  },
  {
   "cell_type": "code",
   "execution_count": 229,
   "metadata": {},
   "outputs": [
    {
     "data": {
      "text/plain": [
       "NodeView(('1', '2', '3', '4', '5', '6', '7', '8', '9', '10', '11', '12', '13', '14', '15', '16', '17', '18', '19', '20', '21', '22', '23', '24', '25', '26', '27', '28', '29', '30', '31', '32', '33', '34', '35', '36', '37', '38', '39', '40', '41', '42', '43', '44', '45', '46', '47', '48', '49', '50', '51', '52', '53', '54', '55', '56', '57', '58', '59', '60', '61', '62', '63', '64', '65', '66', '67', '68', '69', '70'))"
      ]
     },
     "execution_count": 229,
     "metadata": {},
     "output_type": "execute_result"
    }
   ],
   "source": [
    "graphs[1].nodes()"
   ]
  },
  {
   "cell_type": "markdown",
   "metadata": {},
   "source": [
    "check the below list comprehension, because I'm not 100% confident it's right with edgelist sorting"
   ]
  },
  {
   "cell_type": "code",
   "execution_count": 230,
   "metadata": {},
   "outputs": [],
   "source": [
    "graphs = [nx.to_numpy_array(g, nodelist=sorted(list(graphs[i].nodes())))\n",
    "          for i, g in enumerate(graphs)]"
   ]
  },
  {
   "cell_type": "markdown",
   "metadata": {},
   "source": [
    "### remove diagonals"
   ]
  },
  {
   "cell_type": "code",
   "execution_count": 231,
   "metadata": {},
   "outputs": [
    {
     "data": {
      "text/plain": [
       "array([[1.8939e+05, 1.2863e+04, 4.4122e+04, ..., 2.5810e+03, 1.8606e+04,\n",
       "        1.5608e+04],\n",
       "       [1.2863e+04, 4.3680e+04, 2.2210e+03, ..., 1.2000e+01, 2.0859e+04,\n",
       "        9.6090e+03],\n",
       "       [4.4122e+04, 2.2210e+03, 5.3773e+04, ..., 2.5250e+03, 8.0040e+03,\n",
       "        8.6920e+03],\n",
       "       ...,\n",
       "       [2.5810e+03, 1.2000e+01, 2.5250e+03, ..., 7.4160e+03, 1.2300e+02,\n",
       "        7.0200e+02],\n",
       "       [1.8606e+04, 2.0859e+04, 8.0040e+03, ..., 1.2300e+02, 4.8808e+04,\n",
       "        5.8720e+03],\n",
       "       [1.5608e+04, 9.6090e+03, 8.6920e+03, ..., 7.0200e+02, 5.8720e+03,\n",
       "        4.8991e+04]])"
      ]
     },
     "execution_count": 231,
     "metadata": {},
     "output_type": "execute_result"
    }
   ],
   "source": [
    "graphs[0]"
   ]
  },
  {
   "cell_type": "code",
   "execution_count": 232,
   "metadata": {},
   "outputs": [],
   "source": [
    "for i, _ in enumerate(graphs):\n",
    "    np.fill_diagonal(graphs[i], 0)"
   ]
  },
  {
   "cell_type": "code",
   "execution_count": 233,
   "metadata": {},
   "outputs": [
    {
     "data": {
      "text/plain": [
       "array([[0.0000e+00, 1.2863e+04, 4.4122e+04, ..., 2.5810e+03, 1.8606e+04,\n",
       "        1.5608e+04],\n",
       "       [1.2863e+04, 0.0000e+00, 2.2210e+03, ..., 1.2000e+01, 2.0859e+04,\n",
       "        9.6090e+03],\n",
       "       [4.4122e+04, 2.2210e+03, 0.0000e+00, ..., 2.5250e+03, 8.0040e+03,\n",
       "        8.6920e+03],\n",
       "       ...,\n",
       "       [2.5810e+03, 1.2000e+01, 2.5250e+03, ..., 0.0000e+00, 1.2300e+02,\n",
       "        7.0200e+02],\n",
       "       [1.8606e+04, 2.0859e+04, 8.0040e+03, ..., 1.2300e+02, 0.0000e+00,\n",
       "        5.8720e+03],\n",
       "       [1.5608e+04, 9.6090e+03, 8.6920e+03, ..., 7.0200e+02, 5.8720e+03,\n",
       "        0.0000e+00]])"
      ]
     },
     "execution_count": 233,
     "metadata": {},
     "output_type": "execute_result"
    }
   ],
   "source": [
    "graphs[0]  # cool beans"
   ]
  },
  {
   "cell_type": "markdown",
   "metadata": {},
   "source": [
    "don't have to worry about nodelists getting removed here, cause networkx fills them in"
   ]
  },
  {
   "cell_type": "markdown",
   "metadata": {},
   "source": [
    "### consider LCC"
   ]
  },
  {
   "cell_type": "markdown",
   "metadata": {},
   "source": [
    "graphs is currently a list of numpy arrays, where each element is the per-subject adjacency matrix"
   ]
  },
  {
   "cell_type": "code",
   "execution_count": 234,
   "metadata": {},
   "outputs": [
    {
     "name": "stdout",
     "output_type": "stream",
     "text": [
      "True \n",
      "\n",
      "0 (70, 70)\n",
      "1 (70, 70)\n",
      "2 (70, 70)\n",
      "3 (70, 70)\n",
      "4 (70, 70)\n",
      "5 (70, 70)\n",
      "6 (70, 70)\n",
      "7 (70, 70)\n",
      "8 (70, 70)\n",
      "9 (70, 70)\n",
      "10 (70, 70)\n",
      "11 (70, 70)\n",
      "12 (70, 70)\n",
      "13 (70, 70)\n",
      "14 (70, 70)\n",
      "15 (70, 70)\n",
      "16 (70, 70)\n",
      "17 (70, 70)\n",
      "18 (70, 70)\n",
      "19 (70, 70)\n",
      "20 (70, 70)\n",
      "21 (70, 70)\n",
      "22 (70, 70)\n",
      "23 (70, 70)\n",
      "24 (70, 70)\n",
      "25 (70, 70)\n",
      "26 (70, 70)\n",
      "27 (70, 70)\n",
      "28 (70, 70)\n",
      "29 (70, 70)\n",
      "30 (70, 70)\n",
      "31 (70, 70)\n",
      "32 (70, 70)\n",
      "33 (70, 70)\n",
      "34 (70, 70)\n",
      "35 (70, 70)\n",
      "36 (70, 70)\n",
      "37 (70, 70)\n",
      "38 (70, 70)\n",
      "39 (70, 70)\n",
      "40 (70, 70)\n",
      "41 (70, 70)\n",
      "42 (70, 70)\n",
      "43 (70, 70)\n",
      "44 (70, 70)\n",
      "45 (70, 70)\n",
      "46 (70, 70)\n",
      "47 (70, 70)\n",
      "48 (70, 70)\n",
      "49 (70, 70)\n",
      "50 (70, 70)\n",
      "51 (70, 70)\n",
      "52 (70, 70)\n",
      "53 (70, 70)\n",
      "54 (70, 70)\n",
      "55 (70, 70)\n",
      "56 (70, 70)\n",
      "57 (70, 70)\n",
      "58 (70, 70)\n",
      "59 (70, 70)\n",
      "60 (70, 70)\n",
      "61 (70, 70)\n",
      "62 (70, 70)\n",
      "63 (70, 70)\n",
      "64 (70, 70)\n",
      "65 (70, 70)\n",
      "66 (70, 70)\n",
      "67 (70, 70)\n",
      "68 (70, 70)\n",
      "69 (70, 70)\n",
      "70 (70, 70)\n",
      "71 (70, 70)\n",
      "72 (70, 70)\n",
      "73 (70, 70)\n",
      "74 (70, 70)\n",
      "75 (70, 70)\n",
      "76 (70, 70)\n",
      "77 (70, 70)\n",
      "78 (70, 70)\n",
      "79 (70, 70)\n",
      "80 (70, 70)\n",
      "81 (70, 70)\n",
      "82 (70, 70)\n",
      "83 (70, 70)\n",
      "84 (70, 70)\n",
      "85 (70, 70)\n",
      "86 (70, 70)\n",
      "87 (70, 70)\n",
      "88 (70, 70)\n",
      "89 (70, 70)\n",
      "90 (70, 70)\n",
      "91 (70, 70)\n",
      "92 (70, 70)\n",
      "93 (70, 70)\n",
      "94 (70, 70)\n",
      "95 (70, 70)\n",
      "96 (70, 70)\n",
      "97 (70, 70)\n",
      "98 (70, 70)\n",
      "99 (70, 70)\n"
     ]
    },
    {
     "data": {
      "text/plain": [
       "100"
      ]
     },
     "execution_count": 234,
     "metadata": {},
     "output_type": "execute_result"
    }
   ],
   "source": [
    "# assert size of all matrices is 70x70\n",
    "# problem: not all of these are 70x70\n",
    "print(all(x.shape == (70, 70) for x in graphs), '\\n')\n",
    "\n",
    "for i, _ in enumerate(graphs):\n",
    "    print(i, graphs[i].shape)\n",
    "    \n",
    "len(graphs)"
   ]
  },
  {
   "cell_type": "markdown",
   "metadata": {},
   "source": [
    "### make single output graph"
   ]
  },
  {
   "cell_type": "code",
   "execution_count": 235,
   "metadata": {},
   "outputs": [],
   "source": [
    "# for each element of graphs, flatten that element\n",
    "# then, append that element as a row in the final output matrix\n",
    "\n",
    "# no reason to keep using lists\n",
    "graphs = np.array(graphs)"
   ]
  },
  {
   "cell_type": "code",
   "execution_count": 237,
   "metadata": {},
   "outputs": [
    {
     "data": {
      "text/plain": [
       "(100, 70, 70)"
      ]
     },
     "execution_count": 237,
     "metadata": {},
     "output_type": "execute_result"
    }
   ],
   "source": [
    "graphs.shape"
   ]
  },
  {
   "cell_type": "code",
   "execution_count": 238,
   "metadata": {},
   "outputs": [],
   "source": [
    "graphs_final = np.reshape(graphs, (num_subj, 70*70))"
   ]
  },
  {
   "cell_type": "code",
   "execution_count": 239,
   "metadata": {},
   "outputs": [
    {
     "data": {
      "text/plain": [
       "(100, 70, 70)"
      ]
     },
     "execution_count": 239,
     "metadata": {},
     "output_type": "execute_result"
    }
   ],
   "source": [
    "graphs.shape"
   ]
  },
  {
   "cell_type": "code",
   "execution_count": 240,
   "metadata": {},
   "outputs": [
    {
     "data": {
      "text/plain": [
       "(100, 4900)"
      ]
     },
     "execution_count": 240,
     "metadata": {},
     "output_type": "execute_result"
    }
   ],
   "source": [
    "graphs_final.shape"
   ]
  },
  {
   "cell_type": "code",
   "execution_count": 241,
   "metadata": {},
   "outputs": [],
   "source": [
    "check = np.reshape(graphs_final, (num_subj, 70, 70))"
   ]
  },
  {
   "cell_type": "markdown",
   "metadata": {},
   "source": [
    "reshaping preserves information"
   ]
  },
  {
   "cell_type": "code",
   "execution_count": 242,
   "metadata": {},
   "outputs": [
    {
     "data": {
      "text/plain": [
       "True"
      ]
     },
     "execution_count": 242,
     "metadata": {},
     "output_type": "execute_result"
    }
   ],
   "source": [
    "np.all(check == graphs)"
   ]
  },
  {
   "cell_type": "markdown",
   "metadata": {},
   "source": [
    "flattening is the same as reshaping on a single dimension basis"
   ]
  },
  {
   "cell_type": "code",
   "execution_count": 243,
   "metadata": {},
   "outputs": [
    {
     "data": {
      "text/plain": [
       "True"
      ]
     },
     "execution_count": 243,
     "metadata": {},
     "output_type": "execute_result"
    }
   ],
   "source": [
    "np.all(graphs[0].flatten() == graphs_final[0])"
   ]
  },
  {
   "cell_type": "markdown",
   "metadata": {},
   "source": [
    "### save as csv"
   ]
  },
  {
   "cell_type": "code",
   "execution_count": 244,
   "metadata": {},
   "outputs": [],
   "source": [
    "np.savetxt('BNU1_output_desikan.csv', graphs_final, fmt='%f', delimiter=\",\")"
   ]
  },
  {
   "cell_type": "markdown",
   "metadata": {},
   "source": [
    "### get Y vector, save as csv"
   ]
  },
  {
   "cell_type": "code",
   "execution_count": 246,
   "metadata": {},
   "outputs": [],
   "source": [
    "from collections import Counter"
   ]
  },
  {
   "cell_type": "code",
   "execution_count": 245,
   "metadata": {},
   "outputs": [
    {
     "data": {
      "text/plain": [
       "['0025427', '0025441', '0025441', '0025427', '0025427']"
      ]
     },
     "execution_count": 245,
     "metadata": {},
     "output_type": "execute_result"
    }
   ],
   "source": [
    "Y = [str(i) for i in p.iterdir()]\n",
    "\n",
    "rgx = r'(sub-)([a-zA-Z0-9]*)'\n",
    "Y = [re.findall(rgx, Y[i])[0][1] for i, _ in enumerate(Y)]\n",
    "Y[:5]"
   ]
  },
  {
   "cell_type": "code",
   "execution_count": 249,
   "metadata": {},
   "outputs": [
    {
     "data": {
      "text/plain": [
       "Counter({'0025427': 5,\n",
       "         '0025441': 5,\n",
       "         '0025435': 5,\n",
       "         '0025429': 5,\n",
       "         '0025446': 5,\n",
       "         '0025432': 5,\n",
       "         '0025433': 5,\n",
       "         '0025440': 5,\n",
       "         '0025428': 5,\n",
       "         '0025434': 5,\n",
       "         '0025431': 5,\n",
       "         '0025445': 5,\n",
       "         '0025436': 5,\n",
       "         '0025442': 5,\n",
       "         '0025438': 5,\n",
       "         '0025437': 5,\n",
       "         '0025439': 5,\n",
       "         '0025443': 5,\n",
       "         '0025430': 5,\n",
       "         '0025444': 5})"
      ]
     },
     "execution_count": 249,
     "metadata": {},
     "output_type": "execute_result"
    }
   ],
   "source": [
    "# Check to make sure each subj has duplicates\n",
    "Counter(Y)"
   ]
  },
  {
   "cell_type": "markdown",
   "metadata": {},
   "source": [
    "make Y vector file"
   ]
  },
  {
   "cell_type": "code",
   "execution_count": 250,
   "metadata": {},
   "outputs": [],
   "source": [
    "for i in Y:\n",
    "    with open(\"BNU1_output_Y.csv\", \"a\") as f:\n",
    "        f.write(i + '\\n')"
   ]
  }
 ],
 "metadata": {
  "kernelspec": {
   "display_name": "py3",
   "language": "python",
   "name": "py3"
  },
  "language_info": {
   "codemirror_mode": {
    "name": "ipython",
    "version": 3
   },
   "file_extension": ".py",
   "mimetype": "text/x-python",
   "name": "python",
   "nbconvert_exporter": "python",
   "pygments_lexer": "ipython3",
   "version": "3.7.2"
  }
 },
 "nbformat": 4,
 "nbformat_minor": 2
}
