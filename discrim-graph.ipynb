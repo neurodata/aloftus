{
 "cells": [
  {
   "cell_type": "markdown",
   "metadata": {},
   "source": [
    "## make adjacency matrix to export"
   ]
  },
  {
   "cell_type": "code",
   "execution_count": 221,
   "metadata": {},
   "outputs": [],
   "source": [
    "from pathlib import Path\n",
    "import os, re\n",
    "import numpy as np\n",
    "import networkx as nx"
   ]
  },
  {
   "cell_type": "markdown",
   "metadata": {},
   "source": [
    "btw, pathlib.Path is amazing, just started playing with it, fully object-oriented path manipulation"
   ]
  },
  {
   "cell_type": "markdown",
   "metadata": {},
   "source": [
    "### set up paths, etc"
   ]
  },
  {
   "cell_type": "code",
   "execution_count": 192,
   "metadata": {},
   "outputs": [],
   "source": [
    "p = Path('desikan_res-1x1x1')"
   ]
  },
  {
   "cell_type": "code",
   "execution_count": 193,
   "metadata": {},
   "outputs": [
    {
     "data": {
      "text/plain": [
       "[PosixPath('desikan_res-1x1x1/sub-NDARCA789EE0_acq-64dir_dwi_desikan_res-1x1x1_measure-spatial-ds._elist.csv'),\n",
       " PosixPath('desikan_res-1x1x1/sub-NDARAK187ZLP_acq-64dir_dwi_desikan_res-1x1x1_measure-spatial-ds._elist.csv')]"
      ]
     },
     "execution_count": 193,
     "metadata": {},
     "output_type": "execute_result"
    }
   ],
   "source": [
    "# making sure I know what iterdir() does\n",
    "[i for i in p.iterdir()][:2]"
   ]
  },
  {
   "cell_type": "code",
   "execution_count": 194,
   "metadata": {},
   "outputs": [
    {
     "data": {
      "text/plain": [
       "63"
      ]
     },
     "execution_count": 194,
     "metadata": {},
     "output_type": "execute_result"
    }
   ],
   "source": [
    "len([i for i in p.iterdir()])"
   ]
  },
  {
   "cell_type": "markdown",
   "metadata": {},
   "source": [
    "### grab graphs"
   ]
  },
  {
   "cell_type": "code",
   "execution_count": 195,
   "metadata": {},
   "outputs": [],
   "source": [
    "# list of numpy matrices\n",
    "graphs = [nx.read_weighted_edgelist(i, delimiter=',') \n",
    "          for i in p.iterdir()]"
   ]
  },
  {
   "cell_type": "markdown",
   "metadata": {},
   "source": [
    "### check nodelists, output sorted version to numpy matrix"
   ]
  },
  {
   "cell_type": "code",
   "execution_count": 196,
   "metadata": {},
   "outputs": [
    {
     "data": {
      "text/plain": [
       "NodeView(('1', '2', '3', '4', '5', '6', '7', '8', '9', '10', '11', '12', '13', '14', '15', '16', '17', '18', '19', '20', '21', '22', '23', '24', '25', '26', '27', '28', '29', '30', '31', '32', '33', '34', '35', '36', '37', '38', '39', '40', '41', '42', '43', '44', '45', '46', '47', '48', '49', '50', '51', '52', '53', '54', '56', '57', '58', '59', '60', '61', '62', '63', '64', '65', '66', '67', '69', '70', '68', '55'))"
      ]
     },
     "execution_count": 196,
     "metadata": {},
     "output_type": "execute_result"
    }
   ],
   "source": [
    "graphs[0].nodes()"
   ]
  },
  {
   "cell_type": "code",
   "execution_count": 197,
   "metadata": {},
   "outputs": [
    {
     "data": {
      "text/plain": [
       "NodeView(('1', '2', '3', '4', '5', '6', '7', '8', '9', '10', '11', '12', '13', '14', '15', '16', '17', '18', '19', '20', '21', '22', '23', '24', '25', '26', '27', '28', '29', '30', '31', '32', '33', '34', '35', '36', '37', '38', '39', '40', '41', '42', '43', '44', '45', '46', '47', '48', '49', '50', '51', '52', '53', '54', '55', '56', '57', '58', '59', '60', '61', '62', '63', '64', '65', '66', '67', '68', '69', '70'))"
      ]
     },
     "execution_count": 197,
     "metadata": {},
     "output_type": "execute_result"
    }
   ],
   "source": [
    "graphs[1].nodes()"
   ]
  },
  {
   "cell_type": "markdown",
   "metadata": {},
   "source": [
    "check the below list comprehension, because I'm not 100% confident it's right with edgelist sorting"
   ]
  },
  {
   "cell_type": "code",
   "execution_count": 198,
   "metadata": {},
   "outputs": [],
   "source": [
    "graphs = [nx.to_numpy_array(g, nodelist=sorted(list(graphs[i].nodes())))\n",
    "          for i, g in enumerate(graphs)]"
   ]
  },
  {
   "cell_type": "markdown",
   "metadata": {},
   "source": [
    "### remove diagonals"
   ]
  },
  {
   "cell_type": "code",
   "execution_count": 199,
   "metadata": {},
   "outputs": [
    {
     "data": {
      "text/plain": [
       "array([[1.98015e+05, 8.03400e+03, 4.95760e+04, ..., 1.22000e+02,\n",
       "        1.74620e+04, 2.73930e+04],\n",
       "       [8.03400e+03, 4.43440e+04, 2.59400e+03, ..., 0.00000e+00,\n",
       "        2.95020e+04, 6.06700e+03],\n",
       "       [4.95760e+04, 2.59400e+03, 5.45240e+04, ..., 1.16000e+02,\n",
       "        4.51800e+03, 1.35650e+04],\n",
       "       ...,\n",
       "       [1.22000e+02, 0.00000e+00, 1.16000e+02, ..., 2.89700e+03,\n",
       "        0.00000e+00, 0.00000e+00],\n",
       "       [1.74620e+04, 2.95020e+04, 4.51800e+03, ..., 0.00000e+00,\n",
       "        8.06920e+04, 7.78800e+03],\n",
       "       [2.73930e+04, 6.06700e+03, 1.35650e+04, ..., 0.00000e+00,\n",
       "        7.78800e+03, 6.09490e+04]])"
      ]
     },
     "execution_count": 199,
     "metadata": {},
     "output_type": "execute_result"
    }
   ],
   "source": [
    "graphs[0]"
   ]
  },
  {
   "cell_type": "code",
   "execution_count": 200,
   "metadata": {},
   "outputs": [],
   "source": [
    "for i, _ in enumerate(graphs):\n",
    "    np.fill_diagonal(graphs[i], 0)"
   ]
  },
  {
   "cell_type": "code",
   "execution_count": 201,
   "metadata": {},
   "outputs": [
    {
     "data": {
      "text/plain": [
       "array([[    0.,  8034., 49576., ...,   122., 17462., 27393.],\n",
       "       [ 8034.,     0.,  2594., ...,     0., 29502.,  6067.],\n",
       "       [49576.,  2594.,     0., ...,   116.,  4518., 13565.],\n",
       "       ...,\n",
       "       [  122.,     0.,   116., ...,     0.,     0.,     0.],\n",
       "       [17462., 29502.,  4518., ...,     0.,     0.,  7788.],\n",
       "       [27393.,  6067., 13565., ...,     0.,  7788.,     0.]])"
      ]
     },
     "execution_count": 201,
     "metadata": {},
     "output_type": "execute_result"
    }
   ],
   "source": [
    "graphs[0]  # cool beans"
   ]
  },
  {
   "cell_type": "markdown",
   "metadata": {},
   "source": [
    "don't have to worry about nodelists getting removed here, cause networkx fills them in"
   ]
  },
  {
   "cell_type": "markdown",
   "metadata": {},
   "source": [
    "### consider LCC"
   ]
  },
  {
   "cell_type": "markdown",
   "metadata": {},
   "source": [
    "graphs is currently a list of numpy arrays, where each element is the per-subject adjacency matrix"
   ]
  },
  {
   "cell_type": "code",
   "execution_count": 202,
   "metadata": {},
   "outputs": [
    {
     "name": "stdout",
     "output_type": "stream",
     "text": [
      "(70, 70)\n",
      "(70, 70)\n",
      "(70, 70)\n",
      "(70, 70)\n",
      "(70, 70)\n",
      "(70, 70)\n",
      "(70, 70)\n",
      "(70, 70)\n",
      "(70, 70)\n",
      "(70, 70)\n",
      "(70, 70)\n",
      "(70, 70)\n",
      "(70, 70)\n",
      "(70, 70)\n",
      "(70, 70)\n",
      "(70, 70)\n",
      "(70, 70)\n",
      "(70, 70)\n",
      "(70, 70)\n",
      "(70, 70)\n",
      "(70, 70)\n",
      "(70, 70)\n",
      "(70, 70)\n",
      "(70, 70)\n",
      "(70, 70)\n",
      "(70, 70)\n",
      "(70, 70)\n",
      "(70, 70)\n",
      "(70, 70)\n",
      "(70, 70)\n",
      "(70, 70)\n",
      "(70, 70)\n",
      "(70, 70)\n",
      "(70, 70)\n",
      "(70, 70)\n",
      "(70, 70)\n",
      "(70, 70)\n",
      "(70, 70)\n",
      "(70, 70)\n",
      "(70, 70)\n",
      "(70, 70)\n",
      "(70, 70)\n",
      "(70, 70)\n",
      "(70, 70)\n",
      "(70, 70)\n",
      "(70, 70)\n",
      "(70, 70)\n",
      "(70, 70)\n",
      "(70, 70)\n",
      "(70, 70)\n",
      "(70, 70)\n",
      "(70, 70)\n",
      "(70, 70)\n",
      "(70, 70)\n",
      "(70, 70)\n",
      "(70, 70)\n",
      "(70, 70)\n",
      "(70, 70)\n",
      "(70, 70)\n",
      "(70, 70)\n",
      "(70, 70)\n",
      "(70, 70)\n",
      "(70, 70)\n"
     ]
    }
   ],
   "source": [
    "# assert size of all matrices is 70x70\n",
    "for i in range(len(graphs)):\n",
    "    print(graphs[i].shape)"
   ]
  },
  {
   "cell_type": "markdown",
   "metadata": {},
   "source": [
    "cool not worrying about LCC"
   ]
  },
  {
   "cell_type": "markdown",
   "metadata": {},
   "source": [
    "### make single output graph"
   ]
  },
  {
   "cell_type": "code",
   "execution_count": 203,
   "metadata": {},
   "outputs": [
    {
     "name": "stdout",
     "output_type": "stream",
     "text": [
      "(63, 70, 70)\n"
     ]
    }
   ],
   "source": [
    "# for each element of graphs, flatten that element\n",
    "# then, append that element as a row in the final output matrix\n",
    "\n",
    "# no reason to keep using lists\n",
    "graphs = np.array(graphs)\n",
    "print(graphs.shape)"
   ]
  },
  {
   "cell_type": "code",
   "execution_count": 204,
   "metadata": {},
   "outputs": [],
   "source": [
    "graphs_final = np.reshape(graphs, (63, 70*70))"
   ]
  },
  {
   "cell_type": "code",
   "execution_count": 205,
   "metadata": {},
   "outputs": [
    {
     "data": {
      "text/plain": [
       "(63, 70, 70)"
      ]
     },
     "execution_count": 205,
     "metadata": {},
     "output_type": "execute_result"
    }
   ],
   "source": [
    "graphs.shape"
   ]
  },
  {
   "cell_type": "code",
   "execution_count": 206,
   "metadata": {},
   "outputs": [
    {
     "data": {
      "text/plain": [
       "(63, 4900)"
      ]
     },
     "execution_count": 206,
     "metadata": {},
     "output_type": "execute_result"
    }
   ],
   "source": [
    "graphs_final.shape"
   ]
  },
  {
   "cell_type": "code",
   "execution_count": 207,
   "metadata": {},
   "outputs": [],
   "source": [
    "check = np.reshape(graphs_final, (63, 70, 70))"
   ]
  },
  {
   "cell_type": "markdown",
   "metadata": {},
   "source": [
    "reshaping preserves information"
   ]
  },
  {
   "cell_type": "code",
   "execution_count": 208,
   "metadata": {},
   "outputs": [
    {
     "data": {
      "text/plain": [
       "True"
      ]
     },
     "execution_count": 208,
     "metadata": {},
     "output_type": "execute_result"
    }
   ],
   "source": [
    "np.all(check == graphs)"
   ]
  },
  {
   "cell_type": "markdown",
   "metadata": {},
   "source": [
    "flattening is the same as reshaping on a single dimension basis"
   ]
  },
  {
   "cell_type": "code",
   "execution_count": 211,
   "metadata": {},
   "outputs": [
    {
     "data": {
      "text/plain": [
       "True"
      ]
     },
     "execution_count": 211,
     "metadata": {},
     "output_type": "execute_result"
    }
   ],
   "source": [
    "np.all(graphs[0].flatten() == graphs_final[0])"
   ]
  },
  {
   "cell_type": "markdown",
   "metadata": {},
   "source": [
    "### save as csv"
   ]
  },
  {
   "cell_type": "code",
   "execution_count": 212,
   "metadata": {},
   "outputs": [],
   "source": [
    "np.savetxt('HBN_output_desikan.csv', graphs_final, delimiter=\",\")"
   ]
  },
  {
   "cell_type": "markdown",
   "metadata": {},
   "source": [
    "### get Y vector, save as csv"
   ]
  },
  {
   "cell_type": "code",
   "execution_count": 248,
   "metadata": {},
   "outputs": [
    {
     "data": {
      "text/plain": [
       "['NDARCA789EE0',\n",
       " 'NDARAK187ZLP',\n",
       " 'NDARCW419GBD',\n",
       " 'NDARBK669XJQ',\n",
       " 'NDARAT100AEQ']"
      ]
     },
     "execution_count": 248,
     "metadata": {},
     "output_type": "execute_result"
    }
   ],
   "source": [
    "Y = [str(i) for i in p.iterdir()]\n",
    "\n",
    "rgx = r'(sub-)([a-zA-Z0-9]*)'\n",
    "Y = [re.findall(rgx, Y[i])[0][1] for i, _ in enumerate(Y)]\n",
    "Y[:5]"
   ]
  },
  {
   "cell_type": "markdown",
   "metadata": {},
   "source": [
    "make Y vector file"
   ]
  },
  {
   "cell_type": "code",
   "execution_count": 254,
   "metadata": {},
   "outputs": [],
   "source": [
    "for i in Y:\n",
    "    with open(\"HBN_output_Y.csv\", \"a\") as f:\n",
    "        f.write(i + '\\n')"
   ]
  }
 ],
 "metadata": {
  "kernelspec": {
   "display_name": "py3",
   "language": "python",
   "name": "py3"
  },
  "language_info": {
   "codemirror_mode": {
    "name": "ipython",
    "version": 3
   },
   "file_extension": ".py",
   "mimetype": "text/x-python",
   "name": "python",
   "nbconvert_exporter": "python",
   "pygments_lexer": "ipython3",
   "version": "3.7.2"
  }
 },
 "nbformat": 4,
 "nbformat_minor": 2
}
