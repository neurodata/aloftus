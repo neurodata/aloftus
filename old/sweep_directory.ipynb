{
 "cells": [
  {
   "cell_type": "markdown",
   "metadata": {},
   "source": [
    "# Playing with sweep_directory function"
   ]
  },
  {
   "cell_type": "markdown",
   "metadata": {},
   "source": [
    "Using 3 subjects from HNU1 for testing purposes."
   ]
  },
  {
   "cell_type": "code",
   "execution_count": 53,
   "metadata": {},
   "outputs": [
    {
     "name": "stdout",
     "output_type": "stream",
     "text": [
      "\n"
     ]
    }
   ],
   "source": [
    "import sys; print(sys.path[0])"
   ]
  },
  {
   "cell_type": "code",
   "execution_count": 51,
   "metadata": {},
   "outputs": [
    {
     "data": {
      "text/plain": [
       "['',\n",
       " '/Users/alex/Dropbox/NeuroData/ndmg-top/ndmg/env/lib/python27.zip',\n",
       " '/Users/alex/Dropbox/NeuroData/ndmg-top/ndmg/env/lib/python2.7',\n",
       " '/Users/alex/Dropbox/NeuroData/ndmg-top/ndmg/env/lib/python2.7/plat-darwin',\n",
       " '/Users/alex/Dropbox/NeuroData/ndmg-top/ndmg/env/lib/python2.7/plat-mac',\n",
       " '/Users/alex/Dropbox/NeuroData/ndmg-top/ndmg/env/lib/python2.7/plat-mac/lib-scriptpackages',\n",
       " '/Users/alex/Dropbox/NeuroData/ndmg-top/ndmg/env/lib/python2.7/lib-tk',\n",
       " '/Users/alex/Dropbox/NeuroData/ndmg-top/ndmg/env/lib/python2.7/lib-old',\n",
       " '/Users/alex/Dropbox/NeuroData/ndmg-top/ndmg/env/lib/python2.7/lib-dynload',\n",
       " '/usr/local/Cellar/python@2/2.7.15_2/Frameworks/Python.framework/Versions/2.7/lib/python2.7',\n",
       " '/usr/local/Cellar/python@2/2.7.15_2/Frameworks/Python.framework/Versions/2.7/lib/python2.7/plat-darwin',\n",
       " '/usr/local/Cellar/python@2/2.7.15_2/Frameworks/Python.framework/Versions/2.7/lib/python2.7/lib-tk',\n",
       " '/usr/local/Cellar/python@2/2.7.15_2/Frameworks/Python.framework/Versions/2.7/lib/python2.7/plat-mac',\n",
       " '/usr/local/Cellar/python@2/2.7.15_2/Frameworks/Python.framework/Versions/2.7/lib/python2.7/plat-mac/lib-scriptpackages',\n",
       " '/Users/alex/Dropbox/NeuroData/ndmg-top/ndmg/env/lib/python2.7/site-packages',\n",
       " '/Users/alex/Dropbox/NeuroData/ndmg-top/ndmg/env/lib/python2.7/site-packages/ndmg-0.1.1-py2.7-macosx-10.14-x86_64.egg',\n",
       " '/Users/alex/Dropbox/NeuroData/ndmg-top/ndmg/env/lib/python2.7/site-packages',\n",
       " '/Users/alex/Dropbox/NeuroData/ndmg-top/ndmg/env/lib/python2.7/site-packages/IPython/extensions',\n",
       " '/Users/alex/.ipython']"
      ]
     },
     "execution_count": 51,
     "metadata": {},
     "output_type": "execute_result"
    }
   ],
   "source": [
    "sys.path"
   ]
  },
  {
   "cell_type": "code",
   "execution_count": 39,
   "metadata": {},
   "outputs": [],
   "source": [
    "# my imports\n",
    "import pandas as pd\n",
    "import numpy as np\n",
    "import os\n",
    "from pathlib import Path\n",
    "import shutil"
   ]
  },
  {
   "cell_type": "code",
   "execution_count": 40,
   "metadata": {},
   "outputs": [],
   "source": [
    "from ndmg.utils.bids_utils import sweep_directory"
   ]
  },
  {
   "cell_type": "code",
   "execution_count": 41,
   "metadata": {},
   "outputs": [],
   "source": [
    "# store outputs in a variable\n",
    "x = sweep_directory('HNU1')"
   ]
  },
  {
   "cell_type": "markdown",
   "metadata": {},
   "source": [
    "### sweep_directory creates a 4-tuple"
   ]
  },
  {
   "cell_type": "markdown",
   "metadata": {},
   "source": [
    "- x[0] --> dwi.nii.gz\n",
    "- x[1] --> dwi.bval\n",
    "- x[2] --> dwi.bvec\n",
    "- x[3] --> T1w.nii.gz"
   ]
  },
  {
   "cell_type": "code",
   "execution_count": 42,
   "metadata": {},
   "outputs": [
    {
     "data": {
      "text/plain": [
       "tuple"
      ]
     },
     "execution_count": 42,
     "metadata": {},
     "output_type": "execute_result"
    }
   ],
   "source": [
    "type(x)"
   ]
  },
  {
   "cell_type": "code",
   "execution_count": 43,
   "metadata": {},
   "outputs": [
    {
     "data": {
      "text/plain": [
       "4"
      ]
     },
     "execution_count": 43,
     "metadata": {},
     "output_type": "execute_result"
    }
   ],
   "source": [
    "len(x)"
   ]
  },
  {
   "cell_type": "code",
   "execution_count": 44,
   "metadata": {},
   "outputs": [
    {
     "data": {
      "text/plain": [
       "['/Users/alex/Dropbox/NeuroData/ndmg-top/exploration/aloftus/HNU1/sub-0025427/ses-1/dwi/sub-0025427_ses-1_dwi.nii.gz',\n",
       " '/Users/alex/Dropbox/NeuroData/ndmg-top/exploration/aloftus/HNU1/sub-0025427/ses-2/dwi/sub-0025427_ses-2_dwi.nii.gz',\n",
       " '/Users/alex/Dropbox/NeuroData/ndmg-top/exploration/aloftus/HNU1/sub-0025427/ses-3/dwi/sub-0025427_ses-3_dwi.nii.gz',\n",
       " '/Users/alex/Dropbox/NeuroData/ndmg-top/exploration/aloftus/HNU1/sub-0025427/ses-4/dwi/sub-0025427_ses-4_dwi.nii.gz',\n",
       " '/Users/alex/Dropbox/NeuroData/ndmg-top/exploration/aloftus/HNU1/sub-0025427/ses-5/dwi/sub-0025427_ses-5_dwi.nii.gz']"
      ]
     },
     "execution_count": 44,
     "metadata": {},
     "output_type": "execute_result"
    }
   ],
   "source": [
    "x[0][:5]  # first five dwi.nii.gz files"
   ]
  },
  {
   "cell_type": "code",
   "execution_count": 45,
   "metadata": {},
   "outputs": [
    {
     "data": {
      "text/plain": [
       "['/Users/alex/Dropbox/NeuroData/ndmg-top/exploration/aloftus/HNU1/sub-0025427/ses-1/dwi/sub-0025427_ses-1_dwi.bval',\n",
       " '/Users/alex/Dropbox/NeuroData/ndmg-top/exploration/aloftus/HNU1/sub-0025427/ses-2/dwi/sub-0025427_ses-2_dwi.bval',\n",
       " '/Users/alex/Dropbox/NeuroData/ndmg-top/exploration/aloftus/HNU1/sub-0025427/ses-3/dwi/sub-0025427_ses-3_dwi.bval',\n",
       " '/Users/alex/Dropbox/NeuroData/ndmg-top/exploration/aloftus/HNU1/sub-0025427/ses-4/dwi/sub-0025427_ses-4_dwi.bval',\n",
       " '/Users/alex/Dropbox/NeuroData/ndmg-top/exploration/aloftus/HNU1/sub-0025427/ses-5/dwi/sub-0025427_ses-5_dwi.bval']"
      ]
     },
     "execution_count": 45,
     "metadata": {},
     "output_type": "execute_result"
    }
   ],
   "source": [
    "x[1][:5]  # first five *.bval files"
   ]
  },
  {
   "cell_type": "code",
   "execution_count": 46,
   "metadata": {},
   "outputs": [
    {
     "data": {
      "text/plain": [
       "['/Users/alex/Dropbox/NeuroData/ndmg-top/exploration/aloftus/HNU1/sub-0025427/ses-1/dwi/sub-0025427_ses-1_dwi.bvec',\n",
       " '/Users/alex/Dropbox/NeuroData/ndmg-top/exploration/aloftus/HNU1/sub-0025427/ses-2/dwi/sub-0025427_ses-2_dwi.bvec',\n",
       " '/Users/alex/Dropbox/NeuroData/ndmg-top/exploration/aloftus/HNU1/sub-0025427/ses-3/dwi/sub-0025427_ses-3_dwi.bvec',\n",
       " '/Users/alex/Dropbox/NeuroData/ndmg-top/exploration/aloftus/HNU1/sub-0025427/ses-4/dwi/sub-0025427_ses-4_dwi.bvec',\n",
       " '/Users/alex/Dropbox/NeuroData/ndmg-top/exploration/aloftus/HNU1/sub-0025427/ses-5/dwi/sub-0025427_ses-5_dwi.bvec']"
      ]
     },
     "execution_count": 46,
     "metadata": {},
     "output_type": "execute_result"
    }
   ],
   "source": [
    "x[2][:5]  # first five *.bvec files"
   ]
  },
  {
   "cell_type": "code",
   "execution_count": 47,
   "metadata": {},
   "outputs": [
    {
     "data": {
      "text/plain": [
       "['/Users/alex/Dropbox/NeuroData/ndmg-top/exploration/aloftus/HNU1/sub-0025427/ses-1/anat/sub-0025427_ses-1_T1w.nii.gz',\n",
       " '/Users/alex/Dropbox/NeuroData/ndmg-top/exploration/aloftus/HNU1/sub-0025427/ses-2/anat/sub-0025427_ses-2_T1w.nii.gz',\n",
       " '/Users/alex/Dropbox/NeuroData/ndmg-top/exploration/aloftus/HNU1/sub-0025427/ses-3/anat/sub-0025427_ses-3_T1w.nii.gz',\n",
       " '/Users/alex/Dropbox/NeuroData/ndmg-top/exploration/aloftus/HNU1/sub-0025427/ses-4/anat/sub-0025427_ses-4_T1w.nii.gz',\n",
       " '/Users/alex/Dropbox/NeuroData/ndmg-top/exploration/aloftus/HNU1/sub-0025427/ses-5/anat/sub-0025427_ses-5_T1w.nii.gz']"
      ]
     },
     "execution_count": 47,
     "metadata": {},
     "output_type": "execute_result"
    }
   ],
   "source": [
    "x[3][:5]  # first five t1w.nii.gz files"
   ]
  },
  {
   "cell_type": "markdown",
   "metadata": {},
   "source": [
    "### There are the right number of files for the 3 subjects of HNU1 in my test directory"
   ]
  },
  {
   "cell_type": "code",
   "execution_count": 48,
   "metadata": {},
   "outputs": [
    {
     "name": "stdout",
     "output_type": "stream",
     "text": [
      "30\n",
      "30\n",
      "30\n",
      "30\n"
     ]
    }
   ],
   "source": [
    "print(len(x[0]))\n",
    "print(len(x[1]))\n",
    "print(len(x[2]))\n",
    "print(len(x[3]))"
   ]
  },
  {
   "cell_type": "code",
   "execution_count": null,
   "metadata": {},
   "outputs": [],
   "source": []
  }
 ],
 "metadata": {
  "kernelspec": {
   "display_name": "ndmg_env",
   "language": "python",
   "name": "ndmg_env"
  },
  "language_info": {
   "codemirror_mode": {
    "name": "ipython",
    "version": 2
   },
   "file_extension": ".py",
   "mimetype": "text/x-python",
   "name": "python",
   "nbconvert_exporter": "python",
   "pygments_lexer": "ipython2",
   "version": "2.7.15"
  }
 },
 "nbformat": 4,
 "nbformat_minor": 2
}
