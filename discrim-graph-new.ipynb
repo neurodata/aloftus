{
 "cells": [
  {
   "cell_type": "markdown",
   "metadata": {},
   "source": [
    "# Rewriting code for discriminability"
   ]
  },
  {
   "cell_type": "code",
   "execution_count": 8,
   "metadata": {},
   "outputs": [],
   "source": [
    "from pathlib import Path\n",
    "import os, re\n",
    "import numpy as np, networkx as nx\n",
    "from collections import OrderedDict"
   ]
  },
  {
   "cell_type": "markdown",
   "metadata": {},
   "source": [
    "## Define variables"
   ]
  },
  {
   "cell_type": "code",
   "execution_count": 9,
   "metadata": {},
   "outputs": [],
   "source": [
    "DATASET_NAME = 'KKI2009'\n",
    "DESIKAN_PATH = 'KKI2009_desikan_1x1x1'"
   ]
  },
  {
   "cell_type": "code",
   "execution_count": 10,
   "metadata": {},
   "outputs": [],
   "source": [
    "def get_x(input_path: str, output_name: str) -> 'np_array':\n",
    "    "
   ]
  },
  {
   "cell_type": "code",
   "execution_count": null,
   "metadata": {},
   "outputs": [],
   "source": [
    "def get_x(input_path: str, output_name: str) -> None:\n",
    "    \"\"\" input: directory with .csv file outputs from ndmg \"\"\"\n",
    "    input_path = Path(input_path)\n",
    "    num_subj = len([i for i in input_path.iterdir()])\n",
    "    graphs = [nx.read_weighted_edgelist(str(i), delimiter=\",\") for i in input_path.iterdir()]\n",
    "    graphs = [nx.to_numpy_array(g, nodelist=sorted(list(graphs[i].nodes())))for i, g in enumerate(graphs)]\n",
    "    for i, _ in enumerate(graphs):\n",
    "        np.fill_diagonal(graphs[i], 0)\n",
    "\n",
    "    graphs = np.array(graphs)\n",
    "    graphs_final = np.reshape(graphs, (num_subj, 70 * 70))\n",
    "    return graphs_final"
   ]
  },
  {
   "cell_type": "code",
   "execution_count": null,
   "metadata": {},
   "outputs": [],
   "source": [
    "def get_y(input_path: str, output_name: str) -> None:\n",
    "    \"\"\" Outputs a csv file where each row i is (theoretically) the subject id for graphs_final[i, :]. \"\"\"\n",
    "    input_path = Path(input_path)\n",
    "    rgx = r\"(sub-)([a-zA-Z0-9]*)\"\n",
    "\n",
    "    Y = [str(i) for i in input_path.iterdir()]\n",
    "    Y = [re.findall(rgx, Y[i])[0][1] for i, _ in enumerate(Y)]\n",
    "\n",
    "    print(\n",
    "        \"Counter for subject IDs: \", Counter(Y)\n",
    "    )  # Check to make sure each subj has duplicates"
   ]
  },
  {
   "cell_type": "markdown",
   "metadata": {},
   "source": [
    "## Save graph outputs"
   ]
  },
  {
   "cell_type": "code",
   "execution_count": null,
   "metadata": {},
   "outputs": [],
   "source": [
    "    for i in Y:  # make Y vector file\n",
    "        with open(\"{}.csv\".format(output_name), \"a\") as f:\n",
    "            f.write(i + \"\\n\")"
   ]
  },
  {
   "cell_type": "code",
   "execution_count": null,
   "metadata": {},
   "outputs": [],
   "source": [
    "    np.savetxt(\"{}.csv\".format(output_name), graphs_final, fmt=\"%f\", delimiter=\",\")"
   ]
  },
  {
   "cell_type": "code",
   "execution_count": null,
   "metadata": {},
   "outputs": [],
   "source": []
  }
 ],
 "metadata": {
  "kernelspec": {
   "display_name": "py3",
   "language": "python",
   "name": "py3"
  },
  "language_info": {
   "codemirror_mode": {
    "name": "ipython",
    "version": 3
   },
   "file_extension": ".py",
   "mimetype": "text/x-python",
   "name": "python",
   "nbconvert_exporter": "python",
   "pygments_lexer": "ipython3",
   "version": "3.7.2"
  }
 },
 "nbformat": 4,
 "nbformat_minor": 2
}
